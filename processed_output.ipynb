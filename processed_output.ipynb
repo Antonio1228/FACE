{
 "cells": [
  {
   "cell_type": "code",
   "execution_count": 1,
   "id": "5b1172f2",
   "metadata": {
    "execution": {
     "iopub.execute_input": "2024-04-11T07:22:33.891541Z",
     "iopub.status.busy": "2024-04-11T07:22:33.891541Z",
     "iopub.status.idle": "2024-04-11T07:22:33.898373Z",
     "shell.execute_reply": "2024-04-11T07:22:33.898373Z"
    },
    "papermill": {
     "duration": 0.011443,
     "end_time": "2024-04-11T07:22:33.899517",
     "exception": false,
     "start_time": "2024-04-11T07:22:33.888074",
     "status": "completed"
    },
    "tags": [
     "injected-parameters"
    ]
   },
   "outputs": [],
   "source": [
    "# Parameters\n",
    "image_path1 = \"human_picture\\\\000002.jpg\"\n",
    "file_path = \"C65/randoms/noprocrustes.csv\"\n",
    "match_file_path = \"C65/randoms/noprocrustes.csv\"\n",
    "weights = {\"euclidean\": 0.2, \"density\": 0.2, \"knn\": 0.2, \"EMD\": 0.2, \"jaccard\": 0.2, \"procrustes\": 0}\n"
   ]
  },
  {
   "cell_type": "code",
   "execution_count": 2,
   "id": "c9a626a5",
   "metadata": {
    "execution": {
     "iopub.execute_input": "2024-04-11T07:22:33.906678Z",
     "iopub.status.busy": "2024-04-11T07:22:33.906678Z",
     "iopub.status.idle": "2024-04-11T07:22:34.856053Z",
     "shell.execute_reply": "2024-04-11T07:22:34.856053Z"
    },
    "papermill": {
     "duration": 0.954343,
     "end_time": "2024-04-11T07:22:34.856952",
     "exception": false,
     "start_time": "2024-04-11T07:22:33.902609",
     "status": "completed"
    },
    "tags": []
   },
   "outputs": [],
   "source": [
    "import cv2\n",
    "import ast\n",
    "import dlib\n",
    "import pandas as pd\n",
    "import imutils\n",
    "import numpy as np\n",
    "from PIL import Image\n",
    "import matplotlib.pyplot as plt\n",
    "import os\n",
    "from sklearn.neighbors import NearestNeighbors\n",
    "from scipy.spatial import KDTree\n",
    "import random\n",
    "from scipy.optimize import linear_sum_assignment\n",
    "from scipy.spatial import procrustes\n",
    "from scipy.spatial.distance import euclidean"
   ]
  },
  {
   "cell_type": "code",
   "execution_count": null,
   "id": "55b5a7ef",
   "metadata": {
    "execution": {
     "iopub.execute_input": "2024-04-04T10:52:21.576482Z",
     "iopub.status.busy": "2024-04-04T10:52:21.576482Z",
     "iopub.status.idle": "2024-04-04T10:52:22.406512Z",
     "shell.execute_reply": "2024-04-04T10:52:22.406512Z"
    },
    "papermill": {
     "duration": null,
     "end_time": null,
     "exception": null,
     "start_time": null,
     "status": "completed"
    },
    "tags": []
   },
   "outputs": [],
   "source": [
    "detector = dlib.get_frontal_face_detector()\n",
    "shape_predictor = 'shape_predictor_68_face_landmarks.dat'\n",
    "predictor = dlib.shape_predictor(shape_predictor)"
   ]
  },
  {
   "cell_type": "code",
   "execution_count": null,
   "id": "c3676294",
   "metadata": {
    "execution": {
     "iopub.execute_input": "2024-04-04T10:52:22.415500Z",
     "iopub.status.busy": "2024-04-04T10:52:22.414498Z",
     "iopub.status.idle": "2024-04-04T10:52:22.436727Z",
     "shell.execute_reply": "2024-04-04T10:52:22.436727Z"
    },
    "papermill": {
     "duration": null,
     "end_time": null,
     "exception": null,
     "start_time": null,
     "status": "completed"
    },
    "tags": []
   },
   "outputs": [],
   "source": [
    "def rect_to_bb(rect):\n",
    "    x = rect.left()\n",
    "    y = rect.top()\n",
    "    w = rect.right() - x\n",
    "    h = rect.bottom() - y\n",
    "    return (x, y, w, h)\n",
    "\n",
    "def shape_to_np(shape, image_height, dtype=\"int\"):\n",
    "    coords = np.zeros((68, 2), dtype=dtype)\n",
    "    for i in range(0, 68):\n",
    "        x = shape.part(i).x\n",
    "        y = image_height - shape.part(i).y \n",
    "        coords[i] = (x, y)\n",
    "    return coords\n",
    "\n",
    "def extract_facial_landmarks(image_path, shape_predictor):\n",
    "    image = cv2.imread(image_path)\n",
    "    image = imutils.resize(image, width=500)\n",
    "    image_height = image.shape[0] \n",
    "    gray = cv2.cvtColor(image, cv2.COLOR_BGR2GRAY)\n",
    "    rects = detector(gray, 1)\n",
    "    shapes = []\n",
    "    for rect in rects:\n",
    "        shape = predictor(gray, rect)\n",
    "        shape = shape_to_np(shape, image_height)  \n",
    "        shapes.append(shape)\n",
    "    return image, shapes\n",
    "\n",
    "\"\"\"\n",
    "def extract_all_non_white_points(image_path, num_points=68):\n",
    "    with Image.open(image_path) as img:\n",
    "        if img.mode != 'RGB':\n",
    "            img = img.convert('RGB')\n",
    "        img = np.array(img)\n",
    "\n",
    "        img = imutils.resize(img, width=500)\n",
    "        pixels = np.array(img)\n",
    "\n",
    "    white_threshold = 245\n",
    "    non_white_pixels = np.where(np.any(pixels < white_threshold, axis=-1))\n",
    "    non_white_point_coordinates = list(zip(non_white_pixels[1], non_white_pixels[0]))\n",
    "\n",
    "    if len(non_white_point_coordinates) < num_points:\n",
    "        raise ValueError(\"Not enough non-white points to sample the desired number of points.\")\n",
    "    sampled_points = random.sample(non_white_point_coordinates, num_points)\n",
    "\n",
    "    return sampled_points\n",
    "\"\"\""
   ]
  },
  {
   "cell_type": "code",
   "execution_count": null,
   "id": "4f8f4f6b",
   "metadata": {
    "execution": {
     "iopub.execute_input": "2024-04-04T10:52:22.445704Z",
     "iopub.status.busy": "2024-04-04T10:52:22.445704Z",
     "iopub.status.idle": "2024-04-04T10:52:22.547265Z",
     "shell.execute_reply": "2024-04-04T10:52:22.547265Z"
    },
    "papermill": {
     "duration": null,
     "end_time": null,
     "exception": null,
     "start_time": null,
     "status": "completed"
    },
    "tags": []
   },
   "outputs": [],
   "source": [
    "#detector = dlib.get_frontal_face_detector()\n",
    "#shape_predictor = 'shape_predictor_68_face_landmarks.dat'\n",
    "#predictor = dlib.shape_predictor(shape_predictor)\n",
    "image1, shapes1 = extract_facial_landmarks(image_path1, shape_predictor)"
   ]
  },
  {
   "cell_type": "code",
   "execution_count": null,
   "id": "3391abea",
   "metadata": {
    "execution": {
     "iopub.execute_input": "2024-04-04T10:52:22.557266Z",
     "iopub.status.busy": "2024-04-04T10:52:22.556267Z",
     "iopub.status.idle": "2024-04-04T10:52:22.563282Z",
     "shell.execute_reply": "2024-04-04T10:52:22.563282Z"
    },
    "papermill": {
     "duration": null,
     "end_time": null,
     "exception": null,
     "start_time": null,
     "status": "completed"
    },
    "tags": []
   },
   "outputs": [],
   "source": [
    "def transform_points(points, x_range, y_range):\n",
    "    min_x, max_x = x_range\n",
    "    min_y, max_y = y_range\n",
    "    \n",
    "    orig_min_x = min(points, key=lambda p: p[0])[0]\n",
    "    orig_max_x = max(points, key=lambda p: p[0])[0]\n",
    "    orig_min_y = min(points, key=lambda p: p[1])[1]\n",
    "    orig_max_y = max(points, key=lambda p: p[1])[1]\n",
    "\n",
    "    transformed_points = []\n",
    "    for x, y in points:\n",
    "        new_x = min_x + (x - orig_min_x) / (orig_max_x - orig_min_x) * (max_x - min_x)\n",
    "        new_y = min_y + (y - orig_min_y) / (orig_max_y - orig_min_y) * (max_y - min_y)\n",
    "        transformed_points.append((new_x, new_y))\n",
    "\n",
    "    return transformed_points"
   ]
  },
  {
   "cell_type": "code",
   "execution_count": null,
   "id": "c3129dae",
   "metadata": {
    "execution": {
     "iopub.execute_input": "2024-04-04T10:52:22.571272Z",
     "iopub.status.busy": "2024-04-04T10:52:22.571272Z",
     "iopub.status.idle": "2024-04-04T10:52:22.579346Z",
     "shell.execute_reply": "2024-04-04T10:52:22.578339Z"
    },
    "papermill": {
     "duration": null,
     "end_time": null,
     "exception": null,
     "start_time": null,
     "status": "completed"
    },
    "tags": []
   },
   "outputs": [],
   "source": [
    "def calculate_euclidean_distance(shapes1, shapes2):\n",
    "    distances = []\n",
    "    for point1 in shapes1:\n",
    "        min_distance = min(np.sqrt((point1[0] - point2[0])**2 + (point1[1] - point2[1])**2) for point2 in shapes2)\n",
    "        distances.append(min_distance)\n",
    "    return np.mean(distances)"
   ]
  },
  {
   "cell_type": "code",
   "execution_count": null,
   "id": "5eaa010d",
   "metadata": {
    "execution": {
     "iopub.execute_input": "2024-04-04T10:52:22.592351Z",
     "iopub.status.busy": "2024-04-04T10:52:22.591352Z",
     "iopub.status.idle": "2024-04-04T10:52:22.608906Z",
     "shell.execute_reply": "2024-04-04T10:52:22.608906Z"
    },
    "papermill": {
     "duration": null,
     "end_time": null,
     "exception": null,
     "start_time": null,
     "status": "completed"
    },
    "tags": []
   },
   "outputs": [],
   "source": [
    "def calculate_similarity(shapes1, shapes2):\n",
    "    cost_matrix = np.zeros((len(shapes1), len(shapes2)))\n",
    "    for i, coord1 in enumerate(shapes1):\n",
    "        for j, coord2 in enumerate(shapes2):\n",
    "            cost_matrix[i, j] = np.linalg.norm(np.array(coord1) - np.array(coord2))\n",
    "    row_ind, col_ind = linear_sum_assignment(cost_matrix)\n",
    "\n",
    "    total_distance = cost_matrix[row_ind, col_ind].sum()\n",
    "    max_distance = np.max(cost_matrix) * len(shapes1)\n",
    "    similarity = 100 - (total_distance / max_distance * 100)\n",
    "\n",
    "    return similarity"
   ]
  },
  {
   "cell_type": "code",
   "execution_count": null,
   "id": "260c3ea3",
   "metadata": {
    "execution": {
     "iopub.execute_input": "2024-04-04T10:52:22.617867Z",
     "iopub.status.busy": "2024-04-04T10:52:22.616867Z",
     "iopub.status.idle": "2024-04-04T10:52:22.623881Z",
     "shell.execute_reply": "2024-04-04T10:52:22.623881Z"
    },
    "papermill": {
     "duration": null,
     "end_time": null,
     "exception": null,
     "start_time": null,
     "status": "completed"
    },
    "tags": []
   },
   "outputs": [],
   "source": [
    "def calculate_min_max_avg_distance(shapes1, shapes2):\n",
    "    all_distances = []\n",
    "    for point1 in shapes1:\n",
    "        distances = [np.sqrt((point1[0] - point2[0]) ** 2 + (point1[1] - point2[1]) ** 2) for point2 in shapes2]\n",
    "        all_distances.append(min(distances))\n",
    "\n",
    "    return np.min(all_distances), np.max(all_distances), np.mean(all_distances)"
   ]
  },
  {
   "cell_type": "code",
   "execution_count": null,
   "id": "d920cb77",
   "metadata": {
    "execution": {
     "iopub.execute_input": "2024-04-04T10:52:22.632282Z",
     "iopub.status.busy": "2024-04-04T10:52:22.632282Z",
     "iopub.status.idle": "2024-04-04T10:52:22.639282Z",
     "shell.execute_reply": "2024-04-04T10:52:22.639282Z"
    },
    "papermill": {
     "duration": null,
     "end_time": null,
     "exception": null,
     "start_time": null,
     "status": "completed"
    },
    "tags": []
   },
   "outputs": [],
   "source": [
    "def calculate_density(shapes1, shapes2, radius=250):\n",
    "    density_list = []\n",
    "    for point1 in shapes1:\n",
    "        count = sum(np.sqrt((point1[0] - point2[0]) ** 2 + (point1[1] - point2[1]) ** 2) < radius for point2 in shapes2)\n",
    "        density_list.append(count)\n",
    "    return density_list"
   ]
  },
  {
   "cell_type": "code",
   "execution_count": null,
   "id": "44f5cbee",
   "metadata": {
    "execution": {
     "iopub.execute_input": "2024-04-04T10:52:22.647291Z",
     "iopub.status.busy": "2024-04-04T10:52:22.647291Z",
     "iopub.status.idle": "2024-04-04T10:52:22.654383Z",
     "shell.execute_reply": "2024-04-04T10:52:22.654383Z"
    },
    "papermill": {
     "duration": null,
     "end_time": null,
     "exception": null,
     "start_time": null,
     "status": "completed"
    },
    "tags": []
   },
   "outputs": [],
   "source": [
    "def calculate_knn_distance(shapes1, shapes2, k=1):\n",
    "    neigh = NearestNeighbors(n_neighbors=k)\n",
    "    neigh.fit(shapes2)\n",
    "\n",
    "    distances, _ = neigh.kneighbors(shapes1)\n",
    "\n",
    "    return np.mean(distances)"
   ]
  },
  {
   "cell_type": "code",
   "execution_count": null,
   "id": "aa21a6c4",
   "metadata": {
    "execution": {
     "iopub.execute_input": "2024-04-04T10:52:22.662367Z",
     "iopub.status.busy": "2024-04-04T10:52:22.662367Z",
     "iopub.status.idle": "2024-04-04T10:52:22.669366Z",
     "shell.execute_reply": "2024-04-04T10:52:22.669366Z"
    },
    "papermill": {
     "duration": null,
     "end_time": null,
     "exception": null,
     "start_time": null,
     "status": "completed"
    },
    "tags": []
   },
   "outputs": [],
   "source": [
    "def EMD(shapes1, shapes2):\n",
    "    cost_matrix = np.zeros((len(shapes1), len(shapes2)))\n",
    "    for i, coord1 in enumerate(shapes1):\n",
    "        for j, coord2 in enumerate(shapes2):\n",
    "            cost_matrix[i, j] = np.linalg.norm(np.array(coord1) - np.array(coord2))\n",
    "    row_ind, col_ind = linear_sum_assignment(cost_matrix)\n",
    "    total_distance = cost_matrix[row_ind, col_ind].sum()\n",
    "    max_distance = np.max(cost_matrix) * len(shapes1)\n",
    "    similarity = 100 - (total_distance / max_distance * 100)\n",
    "\n",
    "    return similarity"
   ]
  },
  {
   "cell_type": "code",
   "execution_count": null,
   "id": "137f9889",
   "metadata": {
    "execution": {
     "iopub.execute_input": "2024-04-04T10:52:22.677366Z",
     "iopub.status.busy": "2024-04-04T10:52:22.677366Z",
     "iopub.status.idle": "2024-04-04T10:52:22.684390Z",
     "shell.execute_reply": "2024-04-04T10:52:22.684390Z"
    },
    "papermill": {
     "duration": null,
     "end_time": null,
     "exception": null,
     "start_time": null,
     "status": "completed"
    },
    "tags": []
   },
   "outputs": [],
   "source": [
    "def calculate_jaccard_similarity(shapes1, shapes2, threshold):\n",
    "    similar_pairs = 0\n",
    "    for point1 in shapes1:\n",
    "        if any(np.linalg.norm(np.array(point1) - np.array(point2)) < threshold for point2 in shapes2):\n",
    "            similar_pairs += 1\n",
    "    for point2 in shapes2:\n",
    "        if any(np.linalg.norm(np.array(point2) - np.array(point1)) < threshold for point1 in shapes1):\n",
    "            similar_pairs += 1\n",
    "    similar_pairs = similar_pairs / 2\n",
    "    union_size = len(shapes1) + len(shapes2) - similar_pairs\n",
    "    jaccard_similarity = (similar_pairs / union_size) * 100\n",
    "\n",
    "    return jaccard_similarity"
   ]
  },
  {
   "cell_type": "code",
   "execution_count": null,
   "id": "8f755380",
   "metadata": {
    "execution": {
     "iopub.execute_input": "2024-04-04T10:52:22.692390Z",
     "iopub.status.busy": "2024-04-04T10:52:22.691371Z",
     "iopub.status.idle": "2024-04-04T10:52:22.700469Z",
     "shell.execute_reply": "2024-04-04T10:52:22.700469Z"
    },
    "papermill": {
     "duration": null,
     "end_time": null,
     "exception": null,
     "start_time": null,
     "status": "completed"
    },
    "tags": []
   },
   "outputs": [],
   "source": [
    "def calculate_procrustes_similarity(shapes1, shapes2):\n",
    "    mtx1 = np.array(shapes1)\n",
    "    mtx2 = np.array(shapes2)\n",
    "    mtx1_transformed, mtx2_transformed, disparity = procrustes(mtx1, mtx2)\n",
    "    similarity_score = 1 / (1 + disparity)\n",
    "    similarity_score_normalized = similarity_score * 100\n",
    "    similarity_score_normalized = max(min(similarity_score_normalized, 100), 0)\n",
    "    \n",
    "    return similarity_score_normalized\n",
    "    "
   ]
  },
  {
   "cell_type": "code",
   "execution_count": null,
   "id": "deb81859",
   "metadata": {
    "execution": {
     "iopub.execute_input": "2024-04-04T10:52:22.708469Z",
     "iopub.status.busy": "2024-04-04T10:52:22.708469Z",
     "iopub.status.idle": "2024-04-04T10:52:22.715972Z",
     "shell.execute_reply": "2024-04-04T10:52:22.715972Z"
    },
    "papermill": {
     "duration": null,
     "end_time": null,
     "exception": null,
     "start_time": null,
     "status": "completed"
    },
    "tags": []
   },
   "outputs": [],
   "source": [
    "def perform_comparisons(shapes1, shapes2, weights, max_values):\n",
    "    euclidean_distance = calculate_euclidean_distance(shapes1, shapes2)\n",
    "    min_distance, max_distance, avg_distance = calculate_min_max_avg_distance(shapes1, shapes2)\n",
    "    density = calculate_density(shapes1, shapes2)\n",
    "    knn_distance = calculate_knn_distance(shapes1, shapes2, k=50)\n",
    "    KuhnMunkres = calculate_similarity(shapes1, shapes2)\n",
    "    emd = EMD(shapes1,shapes2)\n",
    "    jaccard = calculate_jaccard_similarity(shapes1, shapes2,threshold = 42.5)\n",
    "    procrustes = calculate_procrustes_similarity(shapes1, shapes2)\n",
    "    \n",
    "    euclidean_score = max(0, min(100, (max_values['euclidean'] - euclidean_distance) / max_values['euclidean'] * 100))\n",
    "    min_max_avg_score = max(0, min(100, (max_values['min_max_avg'] - avg_distance) / max_values['min_max_avg'] * 100))\n",
    "    density_score = max(0, min(100, np.mean(density) / max_values['density'] * 100))\n",
    "    knn_score = max(0, min(100, (max_values['knn'] - knn_distance) / max_values['knn'] * 100))\n",
    "\n",
    "\n",
    "    weighted_average_score = (\n",
    "        weights[\"euclidean\"] * euclidean_score +\n",
    "        weights[\"density\"] * density_score +\n",
    "        weights[\"knn\"] * knn_score + \n",
    "        weights[\"EMD\"] * emd + \n",
    "        weights[\"jaccard\"] * jaccard +\n",
    "        weights[\"procrustes\"] * procrustes \n",
    "    )\n",
    "\n",
    "\n",
    "    return weighted_average_score"
   ]
  },
  {
   "cell_type": "code",
   "execution_count": null,
   "id": "d253c112",
   "metadata": {
    "execution": {
     "iopub.execute_input": "2024-04-04T10:52:22.724971Z",
     "iopub.status.busy": "2024-04-04T10:52:22.724971Z",
     "iopub.status.idle": "2024-04-04T10:52:22.731608Z",
     "shell.execute_reply": "2024-04-04T10:52:22.731608Z"
    },
    "papermill": {
     "duration": null,
     "end_time": null,
     "exception": null,
     "start_time": null,
     "status": "completed"
    },
    "tags": []
   },
   "outputs": [],
   "source": [
    "\n",
    "\n",
    "max_values = {\n",
    "    \"euclidean\": np.sqrt((400 - 150) ** 2 + (300 - 50) ** 2),\n",
    "    \"min_max_avg\": np.sqrt((400 - 150) ** 2 + (300 - 50) ** 2),\n",
    "    \"density\": 68,  \n",
    "    \"knn\": 1700, \n",
    "    \n",
    "}"
   ]
  },
  {
   "cell_type": "code",
   "execution_count": null,
   "id": "79e2be65",
   "metadata": {
    "execution": {
     "iopub.execute_input": "2024-04-04T10:52:22.740083Z",
     "iopub.status.busy": "2024-04-04T10:52:22.740083Z",
     "iopub.status.idle": "2024-04-04T10:52:28.123767Z",
     "shell.execute_reply": "2024-04-04T10:52:28.123767Z"
    },
    "papermill": {
     "duration": null,
     "end_time": null,
     "exception": null,
     "start_time": null,
     "status": "completed"
    },
    "tags": []
   },
   "outputs": [],
   "source": [
    "def process_folder(folder_path, shapes1, weights, max_values):\n",
    "    scores = {}\n",
    "    pointsdata = pd.read_csv(\"random_points.csv\")\n",
    "    df = pd.DataFrame(pointsdata)\n",
    "    #image_files = [f for f in os.listdir(folder_path) if f.endswith(('.jpg', '.png'))]\n",
    "    for num in range(0,110):\n",
    "        shapes2 = df.iloc[num].to_list()\n",
    "        image_file = shapes2[0]\n",
    "        shapes2.remove(image_file)\n",
    "        shapes2 = [ast.literal_eval(point) for point in shapes2]\n",
    "        x_range = (150, 400)\n",
    "        y_range = (50, 300)\n",
    "        shapes1_new = transform_points(shapes1[0], x_range, y_range)\n",
    "        shapes2_new = transform_points(shapes2, x_range, y_range)\n",
    "        score = perform_comparisons(shapes1_new, shapes2_new, weights, max_values)\n",
    "        scores[image_file] = score\n",
    "        #print(f\"Score for {image_file}: {score:.2f}\") \n",
    "    return scores\n",
    "\n",
    "folder_path = 'images'  \n",
    "scores = process_folder(folder_path, shapes1, weights, max_values)\n",
    "highest_score_image = max(scores, key=scores.get)\n",
    "highest_score_image_path = os.path.join(folder_path, highest_score_image)"
   ]
  },
  {
   "cell_type": "code",
   "execution_count": null,
   "id": "4c9d0479",
   "metadata": {
    "execution": {
     "iopub.execute_input": "2024-04-04T10:52:28.133415Z",
     "iopub.status.busy": "2024-04-04T10:52:28.133415Z",
     "iopub.status.idle": "2024-04-04T10:52:28.186587Z",
     "shell.execute_reply": "2024-04-04T10:52:28.186587Z"
    },
    "papermill": {
     "duration": null,
     "end_time": null,
     "exception": null,
     "start_time": null,
     "status": "completed"
    },
    "tags": []
   },
   "outputs": [],
   "source": [
    "img = Image.open(highest_score_image_path)\n",
    "plt.imshow(img)\n",
    "plt.axis('off')\n",
    "plt.title(f\"Most similar image: {highest_score_image}\")\n",
    "plt.show()"
   ]
  },
  {
   "cell_type": "code",
   "execution_count": null,
   "id": "45a1c167",
   "metadata": {
    "execution": {
     "iopub.execute_input": "2024-04-04T10:52:28.194592Z",
     "iopub.status.busy": "2024-04-04T10:52:28.194592Z",
     "iopub.status.idle": "2024-04-04T10:52:28.233779Z",
     "shell.execute_reply": "2024-04-04T10:52:28.233779Z"
    },
    "papermill": {
     "duration": null,
     "end_time": null,
     "exception": null,
     "start_time": null,
     "status": "completed"
    },
    "tags": []
   },
   "outputs": [],
   "source": [
    "import pandas as pd\n",
    "\n",
    "# 讀取 CSV 檔案 #要改\n",
    "data = pd.read_csv(file_path)\n",
    "\n",
    "# 尋找 'match' 欄位中第一個空白的位置\n",
    "match_column = 'match'\n",
    "first_empty_index = data[data[match_column].isna()].index.min()\n",
    "\n",
    "if pd.isna(first_empty_index):\n",
    "    # 如果沒有空白位置，則在末尾添加一行\n",
    "    new_row = {match_column: highest_score_image, 'count': 0}  # 假設 'count' 應該是 0\n",
    "    data = data.append(new_row, ignore_index=True)\n",
    "else:\n",
    "    # 在第一個空白位置插入圖片檔案名稱\n",
    "    data.at[first_empty_index, match_column] = highest_score_image\n",
    "\n",
    "# 儲存修改後的 CSV 檔案\n",
    "data.to_csv(file_path, index=False)\n",
    "import pandas as pd\n",
    "\n",
    "# 讀取 CSV 檔案\n",
    "file_path = 'Kaomoji.csv'  # 替換成您的 CSV 檔案路徑\n",
    "kaomoji_data = pd.read_csv(file_path)\n",
    "\n",
    "# 找到第一列中名字與 highest_score_image 相同的那一行\n",
    "matching_row = kaomoji_data[kaomoji_data.iloc[:, 0] == highest_score_image]\n",
    "\n",
    "# 如果找到相應的行，則顯示出來\n",
    "if not matching_row.empty:\n",
    "    print(matching_row)\n",
    "else:\n",
    "    print(\"No matching row found.\")\n",
    "\n",
    "# 提取第二列、第三列和第四列的值\n",
    "eye_kao = matching_row.iloc[0]['eyes']  # Eye Size\n",
    "emo_kao = matching_row.iloc[0]['emotion']  # Highest Emotion\n",
    "mouth_kao = matching_row.iloc[0]['mouth']  # Mouth State\n",
    "\n",
    "# 印出這些值以確認\n",
    "print(f\"Eye Size: {eye_kao}\")\n",
    "print(f\"Emotion: {emo_kao}\")\n",
    "print(f\"Mouth State: {mouth_kao}\")\n",
    "import pandas as pd\n",
    "\n",
    "# 讀取 Human.csv 檔案\n",
    "human_file_path = 'Human.csv'  # 替換為您的 CSV 檔案路徑\n",
    "human_data = pd.read_csv(human_file_path)\n",
    "\n",
    "# 找到名字與 image_path1 相同的那列\n",
    "matching_human_row = human_data[human_data.iloc[:, 0] == image_path1]\n",
    "\n",
    "# 如果找到相應的列，則提取第二列、第三列和第四列的值\n",
    "if not matching_human_row.empty:\n",
    "    # 提取第二列、第三列和第四列的值\n",
    "    eye_hum = matching_human_row.iloc[0]['Eye Size']  # Eye Size\n",
    "    emo_hum = matching_human_row.iloc[0]['Highest Emotion']  # Highest Emotion\n",
    "    mouth_hum = matching_human_row.iloc[0]['Mouth State']  # Mouth State\n",
    "else:\n",
    "    eye_hum = emo_hum = mouth_hum = None  # 如果沒有匹配的列，則設為 None\n",
    "\n",
    "# 您可以根據需要處理這些變數或印出它們\n",
    "print(eye_hum, emo_hum, mouth_hum)\n",
    "import pandas as pd\n",
    "\n",
    "# 假定的匹配檔案名稱和 CSV 檔案路徑   #要改\n",
    "\n",
    "match_data = pd.read_csv(match_file_path)\n",
    "\n",
    "# 初始化 count\n",
    "count = 0\n",
    "\n",
    "    # 如果值相同，則 count 加一\n",
    "if eye_kao == eye_hum:\n",
    "    first_empty_index = match_data[match_data['eye'].isna()].index.min()\n",
    "    match_data.at[first_empty_index, 'eye'] = 1\n",
    "else:\n",
    "    first_empty_index = match_data[match_data['eye'].isna()].index.min()\n",
    "    match_data.at[first_empty_index, 'eye'] = 0\n",
    "\n",
    "if emo_kao == emo_hum:\n",
    "    first_empty_index = match_data[match_data['emo'].isna()].index.min()\n",
    "    match_data.at[first_empty_index, 'emo'] = 1\n",
    "else:\n",
    "    first_empty_index = match_data[match_data['emo'].isna()].index.min()\n",
    "    match_data.at[first_empty_index, 'emo'] = 0\n",
    "\n",
    "if mouth_kao == mouth_hum:\n",
    "    first_empty_index = match_data[match_data['mouth'].isna()].index.min()\n",
    "    match_data.at[first_empty_index, 'mouth'] = 1\n",
    "else:\n",
    "    first_empty_index = match_data[match_data['mouth'].isna()].index.min()\n",
    "    match_data.at[first_empty_index, 'mouth'] = 0\n",
    "\n",
    "\n",
    "# 尋找 match(68points).csv 中第一個空白的 'count' 欄位\n",
    "\n",
    "\n",
    "# 儲存更改\n",
    "match_data.to_csv(match_file_path, index=False)\n"
   ]
  }
 ],
 "metadata": {
  "kernelspec": {
   "display_name": "Python 3 (ipykernel)",
   "language": "python",
   "name": "python3"
  },
  "language_info": {
   "codemirror_mode": {
    "name": "ipython",
    "version": 3
   },
   "file_extension": ".py",
   "mimetype": "text/x-python",
   "name": "python",
   "nbconvert_exporter": "python",
   "pygments_lexer": "ipython3",
   "version": "3.8.18"
  },
  "papermill": {
   "default_parameters": {},
   "duration": 2.588469,
   "end_time": "2024-04-11T07:22:35.194880",
   "environment_variables": {},
   "exception": null,
   "input_path": "face(all_points)_mark2(not_for_demo,csv)copy.ipynb",
   "output_path": "processed_output.ipynb",
   "parameters": {
    "file_path": "C65/randoms/noprocrustes.csv",
    "image_path1": "human_picture\\000002.jpg",
    "match_file_path": "C65/randoms/noprocrustes.csv",
    "weights": {
     "EMD": 0.2,
     "density": 0.2,
     "euclidean": 0.2,
     "jaccard": 0.2,
     "knn": 0.2,
     "procrustes": 0
    }
   },
   "start_time": "2024-04-11T07:22:32.606411",
   "version": "2.5.0"
  }
 },
 "nbformat": 4,
 "nbformat_minor": 5
}