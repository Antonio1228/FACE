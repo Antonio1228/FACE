{
 "cells": [
  {
   "cell_type": "code",
   "execution_count": 1,
   "id": "a7e1433c",
   "metadata": {
    "execution": {
     "iopub.execute_input": "2023-12-25T05:25:31.408668Z",
     "iopub.status.busy": "2023-12-25T05:25:31.407622Z",
     "iopub.status.idle": "2023-12-25T05:25:31.417855Z",
     "shell.execute_reply": "2023-12-25T05:25:31.417855Z"
    },
    "papermill": {
     "duration": 0.017807,
     "end_time": "2023-12-25T05:25:31.419937",
     "exception": false,
     "start_time": "2023-12-25T05:25:31.402130",
     "status": "completed"
    },
    "tags": [
     "injected-parameters"
    ]
   },
   "outputs": [],
   "source": [
    "# Parameters\n",
    "image_path1 = \"human_picture\\\\000100.jpg\"\n"
   ]
  },
  {
   "cell_type": "code",
   "execution_count": 2,
   "id": "c9a626a5",
   "metadata": {
    "execution": {
     "iopub.execute_input": "2023-12-25T05:25:31.424520Z",
     "iopub.status.busy": "2023-12-25T05:25:31.424520Z",
     "iopub.status.idle": "2023-12-25T05:25:31.943618Z",
     "shell.execute_reply": "2023-12-25T05:25:31.943618Z"
    },
    "papermill": {
     "duration": 0.522201,
     "end_time": "2023-12-25T05:25:31.944648",
     "exception": false,
     "start_time": "2023-12-25T05:25:31.422447",
     "status": "completed"
    },
    "tags": []
   },
   "outputs": [],
   "source": [
    "import cv2\n",
    "import dlib\n",
    "import imutils\n",
    "import numpy as np\n",
    "from PIL import Image\n",
    "import matplotlib.pyplot as plt\n",
    "import os\n",
    "from sklearn.neighbors import NearestNeighbors\n",
    "from scipy.spatial import KDTree\n",
    "import random\n",
    "from scipy.optimize import linear_sum_assignment"
   ]
  },
  {
   "cell_type": "code",
   "execution_count": 3,
   "id": "c3676294",
   "metadata": {
    "execution": {
     "iopub.execute_input": "2023-12-25T05:25:31.950195Z",
     "iopub.status.busy": "2023-12-25T05:25:31.949187Z",
     "iopub.status.idle": "2023-12-25T05:25:31.959171Z",
     "shell.execute_reply": "2023-12-25T05:25:31.958784Z"
    },
    "papermill": {
     "duration": 0.01303,
     "end_time": "2023-12-25T05:25:31.960169",
     "exception": false,
     "start_time": "2023-12-25T05:25:31.947139",
     "status": "completed"
    },
    "tags": []
   },
   "outputs": [],
   "source": [
    "def rect_to_bb(rect):\n",
    "    x = rect.left()\n",
    "    y = rect.top()\n",
    "    w = rect.right() - x\n",
    "    h = rect.bottom() - y\n",
    "    return (x, y, w, h)\n",
    "\n",
    "def shape_to_np(shape, image_height, dtype=\"int\"):\n",
    "    coords = np.zeros((68, 2), dtype=dtype)\n",
    "    for i in range(0, 68):\n",
    "        x = shape.part(i).x\n",
    "        y = image_height - shape.part(i).y \n",
    "        coords[i] = (x, y)\n",
    "    return coords\n",
    "\n",
    "def extract_facial_landmarks(image_path, shape_predictor):\n",
    "    image = cv2.imread(image_path)\n",
    "    image = imutils.resize(image, width=500)\n",
    "    image_height = image.shape[0] \n",
    "    gray = cv2.cvtColor(image, cv2.COLOR_BGR2GRAY)\n",
    "    rects = detector(gray, 1)\n",
    "    shapes = []\n",
    "    for rect in rects:\n",
    "        shape = predictor(gray, rect)\n",
    "        shape = shape_to_np(shape, image_height)  \n",
    "        shapes.append(shape)\n",
    "    return image, shapes\n",
    "\n",
    "\n",
    "def extract_all_non_white_points(image_path, num_points=68):\n",
    "    with Image.open(image_path) as img:\n",
    "        if img.mode != 'RGB':\n",
    "            img = img.convert('RGB')\n",
    "        img = np.array(img)\n",
    "\n",
    "        img = imutils.resize(img, width=500)\n",
    "        pixels = np.array(img)\n",
    "\n",
    "    white_threshold = 245\n",
    "    non_white_pixels = np.where(np.any(pixels < white_threshold, axis=-1))\n",
    "    non_white_point_coordinates = list(zip(non_white_pixels[1], non_white_pixels[0]))\n",
    "\n",
    "    if len(non_white_point_coordinates) < num_points:\n",
    "        raise ValueError(\"Not enough non-white points to sample the desired number of points.\")\n",
    "    sampled_points = random.sample(non_white_point_coordinates, num_points)\n",
    "\n",
    "    return sampled_points"
   ]
  },
  {
   "cell_type": "code",
   "execution_count": 4,
   "id": "4f8f4f6b",
   "metadata": {
    "execution": {
     "iopub.execute_input": "2023-12-25T05:25:31.964468Z",
     "iopub.status.busy": "2023-12-25T05:25:31.964468Z",
     "iopub.status.idle": "2023-12-25T05:25:32.727612Z",
     "shell.execute_reply": "2023-12-25T05:25:32.727612Z"
    },
    "papermill": {
     "duration": 0.767245,
     "end_time": "2023-12-25T05:25:32.729648",
     "exception": false,
     "start_time": "2023-12-25T05:25:31.962403",
     "status": "completed"
    },
    "tags": []
   },
   "outputs": [],
   "source": [
    "detector = dlib.get_frontal_face_detector()\n",
    "shape_predictor = 'shape_predictor_68_face_landmarks.dat'\n",
    "predictor = dlib.shape_predictor(shape_predictor)\n",
    "image1, shapes1 = extract_facial_landmarks(image_path1, shape_predictor)"
   ]
  },
  {
   "cell_type": "code",
   "execution_count": 5,
   "id": "3391abea",
   "metadata": {
    "execution": {
     "iopub.execute_input": "2023-12-25T05:25:32.733808Z",
     "iopub.status.busy": "2023-12-25T05:25:32.733808Z",
     "iopub.status.idle": "2023-12-25T05:25:32.743615Z",
     "shell.execute_reply": "2023-12-25T05:25:32.743615Z"
    },
    "papermill": {
     "duration": 0.01307,
     "end_time": "2023-12-25T05:25:32.744779",
     "exception": false,
     "start_time": "2023-12-25T05:25:32.731709",
     "status": "completed"
    },
    "tags": []
   },
   "outputs": [],
   "source": [
    "def transform_points(points, x_range, y_range):\n",
    "    min_x, max_x = x_range\n",
    "    min_y, max_y = y_range\n",
    "    \n",
    "    orig_min_x = min(points, key=lambda p: p[0])[0]\n",
    "    orig_max_x = max(points, key=lambda p: p[0])[0]\n",
    "    orig_min_y = min(points, key=lambda p: p[1])[1]\n",
    "    orig_max_y = max(points, key=lambda p: p[1])[1]\n",
    "\n",
    "    transformed_points = []\n",
    "    for x, y in points:\n",
    "        new_x = min_x + (x - orig_min_x) / (orig_max_x - orig_min_x) * (max_x - min_x)\n",
    "        new_y = min_y + (y - orig_min_y) / (orig_max_y - orig_min_y) * (max_y - min_y)\n",
    "        transformed_points.append((new_x, new_y))\n",
    "\n",
    "    return transformed_points"
   ]
  },
  {
   "cell_type": "code",
   "execution_count": 6,
   "id": "c3129dae",
   "metadata": {
    "execution": {
     "iopub.execute_input": "2023-12-25T05:25:32.748887Z",
     "iopub.status.busy": "2023-12-25T05:25:32.748887Z",
     "iopub.status.idle": "2023-12-25T05:25:32.758856Z",
     "shell.execute_reply": "2023-12-25T05:25:32.758856Z"
    },
    "papermill": {
     "duration": 0.013035,
     "end_time": "2023-12-25T05:25:32.759859",
     "exception": false,
     "start_time": "2023-12-25T05:25:32.746824",
     "status": "completed"
    },
    "tags": []
   },
   "outputs": [],
   "source": [
    "def calculate_euclidean_distance(shapes1, shapes2):\n",
    "    distances = []\n",
    "    for point1 in shapes1:\n",
    "        min_distance = min(np.sqrt((point1[0] - point2[0])**2 + (point1[1] - point2[1])**2) for point2 in shapes2)\n",
    "        distances.append(min_distance)\n",
    "    return np.mean(distances)"
   ]
  },
  {
   "cell_type": "code",
   "execution_count": 7,
   "id": "5eaa010d",
   "metadata": {
    "execution": {
     "iopub.execute_input": "2023-12-25T05:25:32.763929Z",
     "iopub.status.busy": "2023-12-25T05:25:32.763929Z",
     "iopub.status.idle": "2023-12-25T05:25:32.773996Z",
     "shell.execute_reply": "2023-12-25T05:25:32.773996Z"
    },
    "papermill": {
     "duration": 0.013128,
     "end_time": "2023-12-25T05:25:32.775011",
     "exception": false,
     "start_time": "2023-12-25T05:25:32.761883",
     "status": "completed"
    },
    "tags": []
   },
   "outputs": [],
   "source": [
    "def calculate_similarity(shapes1, shapes2):\n",
    "    cost_matrix = np.zeros((len(shapes1), len(shapes2)))\n",
    "    for i, coord1 in enumerate(shapes1):\n",
    "        for j, coord2 in enumerate(shapes2):\n",
    "            cost_matrix[i, j] = np.linalg.norm(np.array(coord1) - np.array(coord2))\n",
    "    row_ind, col_ind = linear_sum_assignment(cost_matrix)\n",
    "\n",
    "    total_distance = cost_matrix[row_ind, col_ind].sum()\n",
    "    max_distance = np.max(cost_matrix) * len(shapes1)\n",
    "    similarity = 100 - (total_distance / max_distance * 100)\n",
    "\n",
    "    return similarity"
   ]
  },
  {
   "cell_type": "code",
   "execution_count": 8,
   "id": "260c3ea3",
   "metadata": {
    "execution": {
     "iopub.execute_input": "2023-12-25T05:25:32.779035Z",
     "iopub.status.busy": "2023-12-25T05:25:32.779035Z",
     "iopub.status.idle": "2023-12-25T05:25:32.789287Z",
     "shell.execute_reply": "2023-12-25T05:25:32.789287Z"
    },
    "papermill": {
     "duration": 0.013261,
     "end_time": "2023-12-25T05:25:32.790302",
     "exception": false,
     "start_time": "2023-12-25T05:25:32.777041",
     "status": "completed"
    },
    "tags": []
   },
   "outputs": [],
   "source": [
    "def calculate_min_max_avg_distance(shapes1, shapes2):\n",
    "    all_distances = []\n",
    "    for point1 in shapes1:\n",
    "        distances = [np.sqrt((point1[0] - point2[0]) ** 2 + (point1[1] - point2[1]) ** 2) for point2 in shapes2]\n",
    "        all_distances.append(min(distances))\n",
    "\n",
    "    return np.min(all_distances), np.max(all_distances), np.mean(all_distances)"
   ]
  },
  {
   "cell_type": "code",
   "execution_count": 9,
   "id": "d920cb77",
   "metadata": {
    "execution": {
     "iopub.execute_input": "2023-12-25T05:25:32.794337Z",
     "iopub.status.busy": "2023-12-25T05:25:32.794337Z",
     "iopub.status.idle": "2023-12-25T05:25:32.804574Z",
     "shell.execute_reply": "2023-12-25T05:25:32.804574Z"
    },
    "papermill": {
     "duration": 0.014217,
     "end_time": "2023-12-25T05:25:32.805562",
     "exception": false,
     "start_time": "2023-12-25T05:25:32.791345",
     "status": "completed"
    },
    "tags": []
   },
   "outputs": [],
   "source": [
    "def calculate_density(shapes1, shapes2, radius=250):\n",
    "    density_list = []\n",
    "    for point1 in shapes1:\n",
    "        count = sum(np.sqrt((point1[0] - point2[0]) ** 2 + (point1[1] - point2[1]) ** 2) < radius for point2 in shapes2)\n",
    "        density_list.append(count)\n",
    "    return density_list"
   ]
  },
  {
   "cell_type": "code",
   "execution_count": 10,
   "id": "44f5cbee",
   "metadata": {
    "execution": {
     "iopub.execute_input": "2023-12-25T05:25:32.809608Z",
     "iopub.status.busy": "2023-12-25T05:25:32.809608Z",
     "iopub.status.idle": "2023-12-25T05:25:32.819919Z",
     "shell.execute_reply": "2023-12-25T05:25:32.819919Z"
    },
    "papermill": {
     "duration": 0.013355,
     "end_time": "2023-12-25T05:25:32.820919",
     "exception": false,
     "start_time": "2023-12-25T05:25:32.807564",
     "status": "completed"
    },
    "tags": []
   },
   "outputs": [],
   "source": [
    "def calculate_knn_distance(shapes1, shapes2, k=1):\n",
    "    neigh = NearestNeighbors(n_neighbors=k)\n",
    "    neigh.fit(shapes2)\n",
    "\n",
    "    distances, _ = neigh.kneighbors(shapes1)\n",
    "\n",
    "    return np.mean(distances)"
   ]
  },
  {
   "cell_type": "code",
   "execution_count": 11,
   "id": "deb81859",
   "metadata": {
    "execution": {
     "iopub.execute_input": "2023-12-25T05:25:32.824970Z",
     "iopub.status.busy": "2023-12-25T05:25:32.824970Z",
     "iopub.status.idle": "2023-12-25T05:25:32.835490Z",
     "shell.execute_reply": "2023-12-25T05:25:32.835252Z"
    },
    "papermill": {
     "duration": 0.013673,
     "end_time": "2023-12-25T05:25:32.836574",
     "exception": false,
     "start_time": "2023-12-25T05:25:32.822901",
     "status": "completed"
    },
    "tags": []
   },
   "outputs": [],
   "source": [
    "def perform_comparisons(shapes1, shapes2, weights, max_values):\n",
    "    euclidean_distance = calculate_euclidean_distance(shapes1, shapes2)\n",
    "    min_distance, max_distance, avg_distance = calculate_min_max_avg_distance(shapes1, shapes2)\n",
    "    density = calculate_density(shapes1, shapes2)\n",
    "    knn_distance = calculate_knn_distance(shapes1, shapes2, k=50)\n",
    "    KuhnMunkres = calculate_similarity(shapes1, shapes2)\n",
    "    \n",
    "    euclidean_score = max(0, min(100, (max_values['euclidean'] - euclidean_distance) / max_values['euclidean'] * 100))\n",
    "    min_max_avg_score = max(0, min(100, (max_values['min_max_avg'] - avg_distance) / max_values['min_max_avg'] * 100))\n",
    "    density_score = max(0, min(100, np.mean(density) / max_values['density'] * 100))\n",
    "    knn_score = max(0, min(100, (max_values['knn'] - knn_distance) / max_values['knn'] * 100))\n",
    "\n",
    "\n",
    "    weighted_average_score = (\n",
    "        weights[\"euclidean\"] * euclidean_score +\n",
    "        weights[\"min_max_avg\"] * min_max_avg_score +\n",
    "        weights[\"density\"] * density_score +\n",
    "        weights[\"knn\"] * knn_score +\n",
    "        weights[\"Kuhn-Munkres\"] * KuhnMunkres\n",
    "    )\n",
    "\n",
    "    return weighted_average_score"
   ]
  },
  {
   "cell_type": "code",
   "execution_count": 12,
   "id": "d253c112",
   "metadata": {
    "execution": {
     "iopub.execute_input": "2023-12-25T05:25:32.840694Z",
     "iopub.status.busy": "2023-12-25T05:25:32.840694Z",
     "iopub.status.idle": "2023-12-25T05:25:32.850600Z",
     "shell.execute_reply": "2023-12-25T05:25:32.850600Z"
    },
    "papermill": {
     "duration": 0.013039,
     "end_time": "2023-12-25T05:25:32.851597",
     "exception": false,
     "start_time": "2023-12-25T05:25:32.838558",
     "status": "completed"
    },
    "tags": []
   },
   "outputs": [],
   "source": [
    "weights = {\n",
    "    \"euclidean\": 1/5,\n",
    "    \"min_max_avg\": 1/5,\n",
    "    \"density\": 1/5,\n",
    "    \"knn\": 1/5,\n",
    "    \"Kuhn-Munkres\": 1/5,\n",
    "}\n",
    "\n",
    "max_values = {\n",
    "    \"euclidean\": np.sqrt((400 - 150) ** 2 + (300 - 50) ** 2),\n",
    "    \"min_max_avg\": np.sqrt((400 - 150) ** 2 + (300 - 50) ** 2),\n",
    "    \"density\": 68,  \n",
    "    \"knn\": 1700, \n",
    "    \n",
    "}"
   ]
  },
  {
   "cell_type": "code",
   "execution_count": 13,
   "id": "79e2be65",
   "metadata": {
    "execution": {
     "iopub.execute_input": "2023-12-25T05:25:32.855622Z",
     "iopub.status.busy": "2023-12-25T05:25:32.855622Z",
     "iopub.status.idle": "2023-12-25T05:25:35.671068Z",
     "shell.execute_reply": "2023-12-25T05:25:35.671068Z"
    },
    "papermill": {
     "duration": 2.818435,
     "end_time": "2023-12-25T05:25:35.672065",
     "exception": false,
     "start_time": "2023-12-25T05:25:32.853630",
     "status": "completed"
    },
    "tags": []
   },
   "outputs": [
    {
     "name": "stdout",
     "output_type": "stream",
     "text": [
      "Score for 1.jpg: 92.36\n",
      "Score for 10.jpg: 93.55\n",
      "Score for 100.jpg: 88.46\n",
      "Score for 101.jpg: 92.72\n",
      "Score for 102.jpg: 93.59\n",
      "Score for 103.jpg: 92.81\n",
      "Score for 104.jpg: 92.22\n",
      "Score for 105.jpg: 93.21\n",
      "Score for 106.jpg: 91.71\n",
      "Score for 107.jpg: 91.12\n",
      "Score for 108.jpg: 91.46\n",
      "Score for 109.jpg: 92.75\n",
      "Score for 11.jpg: 92.20\n",
      "Score for 110.jpg: 90.34\n",
      "Score for 12.png: 89.95\n",
      "Score for 13.png: 92.15\n",
      "Score for 14.jpg: 93.82\n",
      "Score for 15.png: 90.82\n",
      "Score for 16.jpg: 92.40\n",
      "Score for 17.jpg: 90.17\n",
      "Score for 18.png: 92.10\n",
      "Score for 19.jpg: 91.66\n",
      "Score for 2.jpg: 91.40\n",
      "Score for 20.jpg: 91.67\n",
      "Score for 21.jpg: 93.35\n",
      "Score for 22.jpg: 92.74\n",
      "Score for 23.jpg: 91.58\n",
      "Score for 24.jpg: 92.21\n",
      "Score for 25.jpg: 92.48\n",
      "Score for 26.jpg: 90.58\n",
      "Score for 27.jpg: 89.09\n",
      "Score for 28.jpg: 93.03\n",
      "Score for 29.jpg: 92.19\n",
      "Score for 3.jpg: 91.96\n",
      "Score for 30.jpg: 93.66\n",
      "Score for 31.jpg: 90.83\n",
      "Score for 32.jpg: 90.53\n",
      "Score for 33.jpg: 93.94\n",
      "Score for 34.jpg: 92.10\n",
      "Score for 35.jpg: 92.61\n",
      "Score for 36.jpg: 91.36\n",
      "Score for 37.jpg: 91.72\n",
      "Score for 38.jpg: 91.42\n",
      "Score for 39.jpg: 92.54\n",
      "Score for 4.jpg: 92.36\n",
      "Score for 40.jpg: 92.00\n",
      "Score for 41.jpg: 90.65\n",
      "Score for 42.jpg: 91.47\n",
      "Score for 43.jpg: 92.04\n",
      "Score for 44.jpg: 93.20\n",
      "Score for 45.jpg: 93.24\n",
      "Score for 46.jpg: 91.78\n",
      "Score for 47.jpg: 88.59\n",
      "Score for 48.jpg: 92.70\n",
      "Score for 49.jpg: 93.36\n",
      "Score for 5.jpg: 93.98\n",
      "Score for 50.jpg: 91.17\n",
      "Score for 51.jpg: 93.39\n",
      "Score for 52.jpg: 92.73\n",
      "Score for 53.jpg: 92.16\n",
      "Score for 54.jpg: 93.49\n",
      "Score for 55.jpg: 91.42\n",
      "Score for 56.jpg: 91.41\n",
      "Score for 57.jpg: 91.89\n",
      "Score for 58.jpg: 92.95\n",
      "Score for 59.jpg: 92.00\n",
      "Score for 6.jpg: 91.90\n",
      "Score for 60.jpg: 91.24\n",
      "Score for 61.jpg: 92.89\n",
      "Score for 62.jpg: 92.56\n",
      "Score for 63.jpg: 92.11\n",
      "Score for 64.jpg: 92.89\n",
      "Score for 65.jpg: 91.66\n",
      "Score for 66.jpg: 91.98\n",
      "Score for 67.jpg: 92.02\n",
      "Score for 68.jpg: 91.89\n",
      "Score for 69.jpg: 91.87\n",
      "Score for 7.jpg: 91.01\n",
      "Score for 70.jpg: 92.42\n",
      "Score for 71.jpg: 92.74\n",
      "Score for 72.jpg: 92.26\n",
      "Score for 73.jpg: 88.87\n",
      "Score for 74.jpg: 93.40\n",
      "Score for 75.jpg: 92.38\n",
      "Score for 76.jpg: 92.12\n",
      "Score for 77.jpg: 91.14\n",
      "Score for 78.jpg: 92.54\n",
      "Score for 79.jpg: 90.04\n",
      "Score for 8.jpg: 91.16\n",
      "Score for 80.jpg: 91.69\n",
      "Score for 81.jpg: 92.70\n",
      "Score for 82.jpg: 91.56\n",
      "Score for 83.jpg: 93.38\n",
      "Score for 84.jpg: 92.31\n",
      "Score for 85.jpg: 91.66\n",
      "Score for 86.jpg: 91.18\n",
      "Score for 87.jpg: 90.17\n",
      "Score for 88.jpg: 93.92\n",
      "Score for 89.jpg: 90.46\n",
      "Score for 9.jpg: 92.25\n",
      "Score for 90.jpg: 90.60\n",
      "Score for 91.jpg: 92.00\n",
      "Score for 92.jpg: 93.66\n",
      "Score for 93.jpg: 92.82\n",
      "Score for 94.jpg: 89.33\n",
      "Score for 95.jpg: 93.42\n",
      "Score for 96.jpg: 91.92\n",
      "Score for 97.jpg: 93.03\n",
      "Score for 98.jpg: 91.21\n",
      "Score for 99.jpg: 92.60\n"
     ]
    }
   ],
   "source": [
    "def process_folder(folder_path, shapes1, weights, max_values):\n",
    "    scores = {}\n",
    "    image_files = [f for f in os.listdir(folder_path) if f.endswith(('.jpg', '.png'))]\n",
    "    for image_file in image_files:\n",
    "        image_path = os.path.join(folder_path, image_file)\n",
    "        shapes2 = extract_all_non_white_points(image_path)\n",
    "        x_range = (150, 400)\n",
    "        y_range = (50, 300)\n",
    "        shapes1_new = transform_points(shapes1[0], x_range, y_range)\n",
    "        shapes2_new = transform_points(shapes2, x_range, y_range)\n",
    "        score = perform_comparisons(shapes1_new, shapes2_new, weights, max_values)\n",
    "        scores[image_file] = score\n",
    "        print(f\"Score for {image_file}: {score:.2f}\") \n",
    "    return scores\n",
    "\n",
    "folder_path = 'images'  \n",
    "scores = process_folder(folder_path, shapes1, weights, max_values)\n",
    "highest_score_image = max(scores, key=scores.get)\n",
    "highest_score_image_path = os.path.join(folder_path, highest_score_image)"
   ]
  },
  {
   "cell_type": "code",
   "execution_count": 14,
   "id": "4c9d0479",
   "metadata": {
    "execution": {
     "iopub.execute_input": "2023-12-25T05:25:35.678109Z",
     "iopub.status.busy": "2023-12-25T05:25:35.677179Z",
     "iopub.status.idle": "2023-12-25T05:25:35.734038Z",
     "shell.execute_reply": "2023-12-25T05:25:35.732976Z"
    },
    "papermill": {
     "duration": 0.061063,
     "end_time": "2023-12-25T05:25:35.735121",
     "exception": false,
     "start_time": "2023-12-25T05:25:35.674058",
     "status": "completed"
    },
    "tags": []
   },
   "outputs": [
    {
     "data": {
      "image/png": "[encoded data removed]",
      "text/plain": [
       "<Figure size 640x480 with 1 Axes>"
      ]
     },
     "metadata": {},
     "output_type": "display_data"
    }
   ],
   "source": [
    "img = Image.open(highest_score_image_path)\n",
    "plt.imshow(img)\n",
    "plt.axis('off')\n",
    "plt.title(f\"Most similar image: {highest_score_image}\")\n",
    "plt.show()"
   ]
  },
  {
   "cell_type": "code",
   "execution_count": 16,
   "id": "45a1c167",
   "metadata": {
    "execution": {
     "iopub.execute_input": "2023-12-25T05:25:35.741292Z",
     "iopub.status.busy": "2023-12-25T05:25:35.741292Z",
     "iopub.status.idle": "2023-12-25T05:25:35.902849Z",
     "shell.execute_reply": "2023-12-25T05:25:35.902849Z"
    },
    "papermill": {
     "duration": 0.166203,
     "end_time": "2023-12-25T05:25:35.903849",
     "exception": false,
     "start_time": "2023-12-25T05:25:35.737646",
     "status": "completed"
    },
    "tags": []
   },
   "outputs": [
    {
     "name": "stdout",
     "output_type": "stream",
     "text": [
      "      id emotion eyes  mouth eyebrow  tear    sweat  nose    blush\n",
      "4  5.jpg     sad  big  close    have  have  haven't  have  haven't\n",
      "Eye Size: big\n",
      "Emotion: sad\n",
      "Mouth State: close\n",
      "small happy close\n"
     ]
    }
   ],
   "source": [
    "import pandas as pd\n",
    "\n",
    "# 讀取 CSV 檔案\n",
    "file_path = 'match(68points).csv'\n",
    "data = pd.read_csv(file_path)\n",
    "\n",
    "# 尋找 'match' 欄位中第一個空白的位置\n",
    "match_column = 'match'\n",
    "first_empty_index = data[data[match_column].isna()].index.min()\n",
    "\n",
    "if pd.isna(first_empty_index):\n",
    "    # 如果沒有空白位置，則在末尾添加一行\n",
    "    new_row = {match_column: highest_score_image, 'count': 0}  # 假設 'count' 應該是 0\n",
    "    data = data.append(new_row, ignore_index=True)\n",
    "else:\n",
    "    # 在第一個空白位置插入圖片檔案名稱\n",
    "    data.at[first_empty_index, match_column] = highest_score_image\n",
    "\n",
    "# 儲存修改後的 CSV 檔案\n",
    "data.to_csv(file_path, index=False)\n",
    "import pandas as pd\n",
    "\n",
    "# 讀取 CSV 檔案\n",
    "file_path = 'Kaomoji.csv'  # 替換成您的 CSV 檔案路徑\n",
    "kaomoji_data = pd.read_csv(file_path)\n",
    "\n",
    "# 找到第一列中名字與 highest_score_image 相同的那一行\n",
    "matching_row = kaomoji_data[kaomoji_data.iloc[:, 0] == highest_score_image]\n",
    "\n",
    "# 如果找到相應的行，則顯示出來\n",
    "if not matching_row.empty:\n",
    "    print(matching_row)\n",
    "else:\n",
    "    print(\"No matching row found.\")\n",
    "\n",
    "# 提取第二列、第三列和第四列的值\n",
    "eye_kao = matching_row.iloc[0]['eyes']  # Eye Size\n",
    "emo_kao = matching_row.iloc[0]['emotion']  # Highest Emotion\n",
    "mouth_kao = matching_row.iloc[0]['mouth']  # Mouth State\n",
    "\n",
    "# 印出這些值以確認\n",
    "print(f\"Eye Size: {eye_kao}\")\n",
    "print(f\"Emotion: {emo_kao}\")\n",
    "print(f\"Mouth State: {mouth_kao}\")\n",
    "import pandas as pd\n",
    "\n",
    "# 讀取 Human.csv 檔案\n",
    "human_file_path = 'Human.csv'  # 替換為您的 CSV 檔案路徑\n",
    "human_data = pd.read_csv(human_file_path)\n",
    "\n",
    "# 找到名字與 image_path1 相同的那列\n",
    "matching_human_row = human_data[human_data.iloc[:, 0] == image_path1]\n",
    "\n",
    "# 如果找到相應的列，則提取第二列、第三列和第四列的值\n",
    "if not matching_human_row.empty:\n",
    "    # 提取第二列、第三列和第四列的值\n",
    "    eye_hum = matching_human_row.iloc[0]['Eye Size']  # Eye Size\n",
    "    emo_hum = matching_human_row.iloc[0]['Highest Emotion']  # Highest Emotion\n",
    "    mouth_hum = matching_human_row.iloc[0]['Mouth State']  # Mouth State\n",
    "else:\n",
    "    eye_hum = emo_hum = mouth_hum = None  # 如果沒有匹配的列，則設為 None\n",
    "\n",
    "# 您可以根據需要處理這些變數或印出它們\n",
    "print(eye_hum, emo_hum, mouth_hum)\n",
    "import pandas as pd\n",
    "\n",
    "# 假定的匹配檔案名稱和 CSV 檔案路徑\n",
    "match_file_path = 'match(68points).csv'\n",
    "\n",
    "match_data = pd.read_csv(match_file_path)\n",
    "\n",
    "# 初始化 count\n",
    "count = 0\n",
    "\n",
    "    # 如果值相同，則 count 加一\n",
    "if eye_kao == eye_hum:\n",
    "    count += 1\n",
    "if emo_kao == emo_hum:\n",
    "    count += 1\n",
    "if mouth_kao == mouth_hum:\n",
    "    count += 1\n",
    "\n",
    "# 尋找 match(68points).csv 中第一個空白的 'count' 欄位\n",
    "first_empty_index = match_data[match_data['count'].isna()].index.min()\n",
    "match_data.at[first_empty_index, 'count'] = count\n",
    "\n",
    "# 儲存更改\n",
    "match_data.to_csv(match_file_path, index=False)\n"
   ]
  }
 ],
 "metadata": {
  "kernelspec": {
   "display_name": "Python 3 (ipykernel)",
   "language": "python",
   "name": "python3"
  },
  "language_info": {
   "codemirror_mode": {
    "name": "ipython",
    "version": 3
   },
   "file_extension": ".py",
   "mimetype": "text/x-python",
   "name": "python",
   "nbconvert_exporter": "python",
   "pygments_lexer": "ipython3",
   "version": "3.8.18"
  },
  "papermill": {
   "default_parameters": {},
   "duration": 5.494288,
   "end_time": "2023-12-25T05:25:36.148739",
   "environment_variables": {},
   "exception": null,
   "input_path": "face(all_points)_mark2(not_for_demo).ipynb",
   "output_path": "face(all_points)_mark2(not_for_demo).ipynb",
   "parameters": {
    "image_path1": "human_picture\\000100.jpg"
   },
   "start_time": "2023-12-25T05:25:30.654451",
   "version": "2.5.0"
  }
 },
 "nbformat": 4,
 "nbformat_minor": 5
}
