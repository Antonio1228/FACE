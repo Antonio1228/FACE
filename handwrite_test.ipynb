{
 "cells": [
  {
   "cell_type": "code",
   "execution_count": 6,
   "id": "809480af",
   "metadata": {},
   "outputs": [
    {
     "name": "stdout",
     "output_type": "stream",
     "text": [
      "         1   2   3   4   5   6   7   8   9   0\n",
      "0      NaN NaN NaN NaN NaN NaN NaN NaN NaN NaN\n",
      "1      NaN NaN NaN NaN NaN NaN NaN NaN NaN NaN\n",
      "2      NaN NaN NaN NaN NaN NaN NaN NaN NaN NaN\n",
      "3      NaN NaN NaN NaN NaN NaN NaN NaN NaN NaN\n",
      "4      NaN NaN NaN NaN NaN NaN NaN NaN NaN NaN\n",
      "...     ..  ..  ..  ..  ..  ..  ..  ..  ..  ..\n",
      "150811 NaN NaN NaN NaN NaN NaN NaN NaN NaN NaN\n",
      "150812 NaN NaN NaN NaN NaN NaN NaN NaN NaN NaN\n",
      "150813 NaN NaN NaN NaN NaN NaN NaN NaN NaN NaN\n",
      "150814 NaN NaN NaN NaN NaN NaN NaN NaN NaN NaN\n",
      "150815 NaN NaN NaN NaN NaN NaN NaN NaN NaN NaN\n",
      "\n",
      "[150816 rows x 10 columns]\n"
     ]
    }
   ],
   "source": [
    "import matplotlib.pyplot as plt\n",
    "import numpy as np\n",
    "import pandas as pd\n",
    "\n",
    "read = pd.read_csv(\"airBoxData.csv\")\n",
    "col = [1,2,3,4,5,6,7,8,9,0]\n",
    "df = pd.DataFrame(read, columns = col)\n",
    "print(df)"
   ]
  },
  {
   "cell_type": "code",
   "execution_count": null,
   "id": "928377ee",
   "metadata": {},
   "outputs": [],
   "source": []
  }
 ],
 "metadata": {
  "kernelspec": {
   "display_name": "Python 3 (ipykernel)",
   "language": "python",
   "name": "python3"
  },
  "language_info": {
   "codemirror_mode": {
    "name": "ipython",
    "version": 3
   },
   "file_extension": ".py",
   "mimetype": "text/x-python",
   "name": "python",
   "nbconvert_exporter": "python",
   "pygments_lexer": "ipython3",
   "version": "3.11.4"
  }
 },
 "nbformat": 4,
 "nbformat_minor": 5
}
