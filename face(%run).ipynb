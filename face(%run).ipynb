{
 "cells": [
  {
   "cell_type": "code",
   "execution_count": 28,
   "metadata": {},
   "outputs": [],
   "source": [
    "from PIL import Image\n",
    "import matplotlib.pyplot as plt\n",
    "from IPython import get_ipython"
   ]
  },
  {
   "cell_type": "code",
   "execution_count": 29,
   "metadata": {},
   "outputs": [],
   "source": [
    "image_path1 = \"human_picture\\\\000100.jpg\"\n",
    "get_ipython().run_line_magic('run', r'face(all_points,bfs,for_demo).ipynb')"
   ]
  },
  {
   "cell_type": "code",
   "execution_count": 30,
   "metadata": {},
   "outputs": [
    {
     "name": "stdout",
     "output_type": "stream",
     "text": [
      "Score for 1.jpg: 62.50\n",
      "Score for 10.jpg: 64.40\n",
      "Score for 100.jpg: 58.94\n",
      "Score for 101.jpg: 62.80\n",
      "Score for 102.jpg: 61.20\n",
      "Score for 103.jpg: 63.61\n",
      "Score for 104.jpg: 63.21\n",
      "Score for 105.jpg: 65.14\n",
      "Score for 106.jpg: 63.32\n",
      "Score for 107.jpg: 61.43\n",
      "Score for 108.jpg: 61.65\n",
      "Score for 109.jpg: 64.99\n",
      "Score for 11.jpg: 60.54\n",
      "Score for 110.jpg: 60.82\n",
      "Score for 12.png: 62.16\n",
      "Score for 13.png: 62.77\n",
      "Score for 14.jpg: 63.80\n",
      "Score for 15.png: 63.11\n",
      "Score for 16.jpg: 62.32\n",
      "Score for 17.jpg: 62.64\n",
      "Score for 18.png: 63.79\n",
      "Score for 19.jpg: 62.59\n",
      "Score for 2.jpg: 62.48\n",
      "Score for 20.jpg: 64.18\n",
      "Score for 21.jpg: 63.20\n",
      "Score for 22.jpg: 63.76\n",
      "Score for 23.jpg: 64.68\n",
      "Score for 24.jpg: 62.47\n",
      "Score for 25.jpg: 61.07\n",
      "Score for 26.jpg: 62.83\n",
      "Score for 27.jpg: 60.93\n",
      "Score for 28.jpg: 63.10\n",
      "Score for 29.jpg: 62.64\n",
      "Score for 3.jpg: 62.93\n",
      "Score for 30.jpg: 64.18\n",
      "Score for 31.jpg: 63.04\n",
      "Score for 32.jpg: 63.16\n",
      "Score for 33.jpg: 63.06\n",
      "Score for 34.jpg: 62.70\n",
      "Score for 35.jpg: 63.65\n",
      "Score for 36.jpg: 63.08\n",
      "Score for 37.jpg: 63.24\n",
      "Score for 38.jpg: 61.39\n",
      "Score for 39.jpg: 64.07\n",
      "Score for 4.jpg: 61.43\n",
      "Score for 40.jpg: 64.05\n",
      "Score for 41.jpg: 62.83\n",
      "Score for 42.jpg: 62.99\n",
      "Score for 43.jpg: 61.87\n",
      "Score for 44.jpg: 62.33\n",
      "Score for 45.jpg: 64.30\n",
      "Score for 46.jpg: 63.49\n",
      "Score for 47.jpg: 59.35\n",
      "Score for 48.jpg: 63.82\n",
      "Score for 49.jpg: 60.91\n",
      "Score for 5.jpg: 63.29\n",
      "Score for 50.jpg: 60.34\n",
      "Score for 51.jpg: 65.62\n",
      "Score for 52.jpg: 64.82\n",
      "Score for 53.jpg: 62.98\n",
      "Score for 54.jpg: 64.95\n",
      "Score for 55.jpg: 63.02\n",
      "Score for 56.jpg: 62.20\n",
      "Score for 57.jpg: 62.78\n",
      "Score for 58.jpg: 64.18\n",
      "Score for 59.jpg: 62.42\n",
      "Score for 6.jpg: 63.05\n",
      "Score for 60.jpg: 64.30\n",
      "Score for 61.jpg: 64.33\n",
      "Score for 62.jpg: 62.68\n",
      "Score for 63.jpg: 62.59\n",
      "Score for 64.jpg: 64.15\n",
      "Score for 65.jpg: 63.22\n",
      "Score for 66.jpg: 64.26\n",
      "Score for 67.jpg: 62.53\n",
      "Score for 68.jpg: 62.10\n",
      "Score for 69.jpg: 63.64\n",
      "Score for 7.jpg: 61.71\n",
      "Score for 70.jpg: 62.57\n",
      "Score for 71.jpg: 64.05\n",
      "Score for 72.jpg: 64.04\n",
      "Score for 73.jpg: 59.00\n",
      "Score for 74.jpg: 65.02\n",
      "Score for 75.jpg: 64.34\n",
      "Score for 76.jpg: 63.48\n",
      "Score for 77.jpg: 63.18\n",
      "Score for 78.jpg: 64.19\n",
      "Score for 79.jpg: 62.97\n",
      "Score for 8.jpg: 63.48\n",
      "Score for 80.jpg: 63.81\n",
      "Score for 81.jpg: 63.18\n",
      "Score for 82.jpg: 63.55\n",
      "Score for 83.jpg: 64.44\n",
      "Score for 84.jpg: 63.12\n",
      "Score for 85.jpg: 64.06\n",
      "Score for 86.jpg: 63.07\n",
      "Score for 87.jpg: 64.17\n",
      "Score for 88.jpg: 64.13\n",
      "Score for 89.jpg: 62.13\n",
      "Score for 9.jpg: 63.60\n",
      "Score for 90.jpg: 63.69\n",
      "Score for 91.jpg: 62.42\n",
      "Score for 92.jpg: 61.82\n",
      "Score for 93.jpg: 63.60\n",
      "Score for 94.jpg: 60.91\n",
      "Score for 95.jpg: 63.70\n",
      "Score for 96.jpg: 61.82\n",
      "Score for 97.jpg: 63.40\n",
      "Score for 98.jpg: 61.24\n",
      "Score for 99.jpg: 64.49\n",
      "The image with the highest score: 51.jpg 65.61563998609783\n"
     ]
    },
    {
     "data": {
      "image/png": "[encoded data removed]",
      "text/plain": [
       "<Figure size 640x480 with 1 Axes>"
      ]
     },
     "metadata": {},
     "output_type": "display_data"
    },
    {
     "name": "stdout",
     "output_type": "stream",
     "text": [
      "51.jpg images\\51.jpg\n"
     ]
    }
   ],
   "source": [
    "highest_score_image, highest_score_image_path = get_path_return_output(image_path1)\n",
    "img = Image.open(highest_score_image_path)\n",
    "plt.imshow(img)\n",
    "plt.axis('off')\n",
    "plt.title(f\"Most similar image: {highest_score_image}\")\n",
    "plt.show()"
   ]
  }
 ],
 "metadata": {
  "kernelspec": {
   "display_name": "base",
   "language": "python",
   "name": "python3"
  },
  "language_info": {
   "codemirror_mode": {
    "name": "ipython",
    "version": 3
   },
   "file_extension": ".py",
   "mimetype": "text/x-python",
   "name": "python",
   "nbconvert_exporter": "python",
   "pygments_lexer": "ipython3",
   "version": "3.11.8"
  }
 },
 "nbformat": 4,
 "nbformat_minor": 2
}
