{
 "cells": [
  {
   "cell_type": "code",
   "execution_count": 3,
   "metadata": {},
   "outputs": [],
   "source": [
    "import pandas as pd\n",
    "\n",
    "# 讀取CSV檔案\n",
    "df = pd.read_csv('Kaomoji.csv')\n",
    "\n",
    "# 檢查第一列的名稱，這裏假設它是'Column1'\n",
    "# 對第一列的每個元素加上'.jpg'\n",
    "df['id'] = df['id'].apply(lambda x: str(x) + '.jpg')\n",
    "\n",
    "# 保存修改後的CSV檔案\n",
    "df.to_csv('Kaomoji.csv', index=False)\n"
   ]
  }
 ],
 "metadata": {
  "kernelspec": {
   "display_name": "myenv",
   "language": "python",
   "name": "python3"
  },
  "language_info": {
   "codemirror_mode": {
    "name": "ipython",
    "version": 3
   },
   "file_extension": ".py",
   "mimetype": "text/x-python",
   "name": "python",
   "nbconvert_exporter": "python",
   "pygments_lexer": "ipython3",
   "version": "3.8.18"
  }
 },
 "nbformat": 4,
 "nbformat_minor": 2
}
