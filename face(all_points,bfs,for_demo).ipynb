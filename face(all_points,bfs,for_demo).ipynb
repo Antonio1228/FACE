{
 "cells": [
  {
   "cell_type": "code",
   "execution_count": 1,
   "id": "c9a626a5",
   "metadata": {
    "execution": {
     "iopub.execute_input": "2023-12-25T05:25:31.424520Z",
     "iopub.status.busy": "2023-12-25T05:25:31.424520Z",
     "iopub.status.idle": "2023-12-25T05:25:31.943618Z",
     "shell.execute_reply": "2023-12-25T05:25:31.943618Z"
    },
    "papermill": {
     "duration": 0.522201,
     "end_time": "2023-12-25T05:25:31.944648",
     "exception": false,
     "start_time": "2023-12-25T05:25:31.422447",
     "status": "completed"
    },
    "tags": []
   },
   "outputs": [],
   "source": [
    "import cv2\n",
    "import ast\n",
    "import dlib\n",
    "import imutils\n",
    "import numpy as np\n",
    "import pandas as pd\n",
    "from PIL import Image, ImageOps\n",
    "import matplotlib.pyplot as plt\n",
    "from collections import deque\n",
    "import os\n",
    "from sklearn.neighbors import NearestNeighbors\n",
    "from scipy.spatial import KDTree\n",
    "import random\n",
    "from scipy.optimize import linear_sum_assignment\n",
    "from scipy.spatial import procrustes\n",
    "from scipy.spatial.distance import euclidean"
   ]
  },
  {
   "cell_type": "code",
   "execution_count": 2,
   "id": "a7e1433c",
   "metadata": {
    "execution": {
     "iopub.execute_input": "2023-12-25T05:25:31.408668Z",
     "iopub.status.busy": "2023-12-25T05:25:31.407622Z",
     "iopub.status.idle": "2023-12-25T05:25:31.417855Z",
     "shell.execute_reply": "2023-12-25T05:25:31.417855Z"
    },
    "papermill": {
     "duration": 0.017807,
     "end_time": "2023-12-25T05:25:31.419937",
     "exception": false,
     "start_time": "2023-12-25T05:25:31.402130",
     "status": "completed"
    },
    "tags": []
   },
   "outputs": [],
   "source": [
    "detector = dlib.get_frontal_face_detector()\n",
    "shape_predictor = 'shape_predictor_68_face_landmarks.dat'\n",
    "predictor = dlib.shape_predictor(shape_predictor)"
   ]
  },
  {
   "cell_type": "code",
   "execution_count": 3,
   "id": "c3676294",
   "metadata": {
    "execution": {
     "iopub.execute_input": "2023-12-25T05:25:31.950195Z",
     "iopub.status.busy": "2023-12-25T05:25:31.949187Z",
     "iopub.status.idle": "2023-12-25T05:25:31.959171Z",
     "shell.execute_reply": "2023-12-25T05:25:31.958784Z"
    },
    "papermill": {
     "duration": 0.01303,
     "end_time": "2023-12-25T05:25:31.960169",
     "exception": false,
     "start_time": "2023-12-25T05:25:31.947139",
     "status": "completed"
    },
    "tags": []
   },
   "outputs": [],
   "source": [
    "def rect_to_bb(rect):\n",
    "    x = rect.left()\n",
    "    y = rect.top()\n",
    "    w = rect.right() - x\n",
    "    h = rect.bottom() - y\n",
    "    return (x, y, w, h)\n",
    "\n",
    "def shape_to_np(shape, image_height, dtype=\"int\"):\n",
    "    coords = np.zeros((68, 2), dtype=dtype)\n",
    "    for i in range(0, 68):\n",
    "        x = shape.part(i).x\n",
    "        y = image_height - shape.part(i).y \n",
    "        coords[i] = (x, y)\n",
    "    return coords\n",
    "\n",
    "def extract_facial_landmarks(image_path, shape_predictor):\n",
    "    image = cv2.imread(image_path)\n",
    "    image = imutils.resize(image, width=500)\n",
    "    image_height = image.shape[0] \n",
    "    gray = cv2.cvtColor(image, cv2.COLOR_BGR2GRAY)\n",
    "    rects = detector(gray, 1)\n",
    "    shapes = []\n",
    "    for rect in rects:\n",
    "        shape = predictor(gray, rect)\n",
    "        shape = shape_to_np(shape, image_height)  \n",
    "        shapes.append(shape)\n",
    "    return image, shapes\n",
    "\n",
    "def bfs(coordinates, visited, start, num):\n",
    "    directions = [(1, 0), (-1, 0), (0, 1), (0, -1)]\n",
    "    queue = deque([start])\n",
    "    area = 0\n",
    "\n",
    "    while queue:\n",
    "        current = queue.popleft()\n",
    "        x, y = current\n",
    "\n",
    "        if visited[x][y] == 0:\n",
    "            visited[x][y] = num\n",
    "            area += 1\n",
    "\n",
    "            for dx, dy in directions:\n",
    "                nx, ny = x + dx, y + dy\n",
    "                if (nx, ny) in coordinates and visited[nx][ny] == 0:\n",
    "                    queue.append((nx, ny))\n",
    "\n",
    "    return area\n",
    "\n",
    "\n",
    "def count_black_areas(coordinates):\n",
    "    if not coordinates:\n",
    "        return []\n",
    "\n",
    "    min_x, min_y = min(x for x, y in coordinates), min(\n",
    "        y for x, y in coordinates)\n",
    "    max_x, max_y = max(x for x, y in coordinates), max(\n",
    "        y for x, y in coordinates)\n",
    "\n",
    "    rows, cols = max_x - min_x + 1, max_y - min_y + 1\n",
    "    visited = [[0] * cols for _ in range(rows)]\n",
    "    mapped_coordinates = [(x - min_x, y - min_y) for x, y in coordinates]\n",
    "\n",
    "    num = 1\n",
    "    areas = []\n",
    "    area_mapping = {}\n",
    "\n",
    "    for i in range(rows):\n",
    "        for j in range(cols):\n",
    "            if (i, j) in mapped_coordinates and visited[i][j] == 0:\n",
    "                area = bfs(mapped_coordinates, visited, (i, j), num)\n",
    "                areas.append(area)\n",
    "                current_area_coordinates = [\n",
    "                    (x + min_x, y + min_y) for x, y in mapped_coordinates if visited[x][y] == num]\n",
    "                area_mapping[num] = current_area_coordinates\n",
    "                num += 1\n",
    "\n",
    "    return areas, area_mapping\n",
    "\n",
    "\n",
    "def extract_all_non_white_points(image_path, num_points=68, test=False, radius=1):\n",
    "    with Image.open(image_path) as img:\n",
    "        img = ImageOps.flip(img)\n",
    "        if img.mode != 'RGB':\n",
    "            img = img.convert('RGB')\n",
    "        img = np.array(img)\n",
    "\n",
    "        img = imutils.resize(img, width=500)\n",
    "        pixels = np.array(img)\n",
    "\n",
    "    white_threshold = 245\n",
    "    non_white_pixels = np.where(np.any(pixels < white_threshold, axis=-1))\n",
    "    non_white_point_coordinates = list(zip(non_white_pixels[1], non_white_pixels[0]))\n",
    "\n",
    "    \"\"\"\n",
    "    points = []\n",
    "    for x, y in non_white_point_coordinates:\n",
    "        neighborhood = pixels[y - radius:y + radius + 1, x - radius:x + radius + 1]\n",
    "        if np.any(neighborhood >= white_threshold):\n",
    "            points.append((x, y))\n",
    "\n",
    "    if test:\n",
    "        plt.scatter(*zip(*points), label='non_white_points')\n",
    "        plt.title('ori_kaomoji')\n",
    "        plt.show()\n",
    "\n",
    "    if len(points) < num_points:\n",
    "        raise ValueError(\"Not enough non-white points to sample the desired number of points.\")\n",
    "    sampled_points = random.sample(points, num_points)\n",
    "    \"\"\"\n",
    "    \n",
    "    #bfs找出每個色塊的面積然後按比例random sample\n",
    "    areas, area_mapping = count_black_areas(non_white_point_coordinates)\n",
    "    sampled_points = []\n",
    "    total_area = sum(areas)\n",
    "    ratio = [int(num_points * area / total_area) for area in areas] \n",
    "    diff = num_points - sum(ratio)\n",
    "    max_ratio_index = ratio.index(max(ratio))\n",
    "    ratio[max_ratio_index] += diff\n",
    "\n",
    "    #print(areas)\n",
    "    #print(area_mapping)\n",
    "    #print(total_area)\n",
    "    #print(ratio)\n",
    "    #print(sum(ratio))\n",
    "    for area, selection in zip(area_mapping, ratio):\n",
    "        #print(selection,area)\n",
    "        if area in area_mapping:\n",
    "            sampled_points.extend(random.sample(area_mapping[area], selection))\n",
    "            #print(len(sampled_points))\n",
    "    #print(len(sampled_points))\n",
    "    return sampled_points"
   ]
  },
  {
   "cell_type": "code",
   "execution_count": 4,
   "id": "4f8f4f6b",
   "metadata": {
    "execution": {
     "iopub.execute_input": "2023-12-25T05:25:31.964468Z",
     "iopub.status.busy": "2023-12-25T05:25:31.964468Z",
     "iopub.status.idle": "2023-12-25T05:25:32.727612Z",
     "shell.execute_reply": "2023-12-25T05:25:32.727612Z"
    },
    "papermill": {
     "duration": 0.767245,
     "end_time": "2023-12-25T05:25:32.729648",
     "exception": false,
     "start_time": "2023-12-25T05:25:31.962403",
     "status": "completed"
    },
    "tags": []
   },
   "outputs": [],
   "source": [
    "#detector = dlib.get_frontal_face_detector()\n",
    "#shape_predictor = 'shape_predictor_68_face_landmarks.dat'\n",
    "#predictor = dlib.shape_predictor(shape_predictor)\n",
    "image1, shapes1 = extract_facial_landmarks(image_path1, shape_predictor)"
   ]
  },
  {
   "cell_type": "code",
   "execution_count": 5,
   "id": "3391abea",
   "metadata": {
    "execution": {
     "iopub.execute_input": "2023-12-25T05:25:32.733808Z",
     "iopub.status.busy": "2023-12-25T05:25:32.733808Z",
     "iopub.status.idle": "2023-12-25T05:25:32.743615Z",
     "shell.execute_reply": "2023-12-25T05:25:32.743615Z"
    },
    "papermill": {
     "duration": 0.01307,
     "end_time": "2023-12-25T05:25:32.744779",
     "exception": false,
     "start_time": "2023-12-25T05:25:32.731709",
     "status": "completed"
    },
    "tags": []
   },
   "outputs": [],
   "source": [
    "def transform_points(points, x_range, y_range):\n",
    "    min_x, max_x = x_range\n",
    "    min_y, max_y = y_range\n",
    "    \n",
    "    orig_min_x = min(points, key=lambda p: p[0])[0]\n",
    "    orig_max_x = max(points, key=lambda p: p[0])[0]\n",
    "    orig_min_y = min(points, key=lambda p: p[1])[1]\n",
    "    orig_max_y = max(points, key=lambda p: p[1])[1]\n",
    "\n",
    "    transformed_points = []\n",
    "    for x, y in points:\n",
    "        new_x = min_x + (x - orig_min_x) / (orig_max_x - orig_min_x) * (max_x - min_x)\n",
    "        new_y = min_y + (y - orig_min_y) / (orig_max_y - orig_min_y) * (max_y - min_y)\n",
    "        transformed_points.append((new_x, new_y))\n",
    "\n",
    "    return transformed_points"
   ]
  },
  {
   "cell_type": "code",
   "execution_count": 6,
   "id": "c3129dae",
   "metadata": {
    "execution": {
     "iopub.execute_input": "2023-12-25T05:25:32.748887Z",
     "iopub.status.busy": "2023-12-25T05:25:32.748887Z",
     "iopub.status.idle": "2023-12-25T05:25:32.758856Z",
     "shell.execute_reply": "2023-12-25T05:25:32.758856Z"
    },
    "papermill": {
     "duration": 0.013035,
     "end_time": "2023-12-25T05:25:32.759859",
     "exception": false,
     "start_time": "2023-12-25T05:25:32.746824",
     "status": "completed"
    },
    "tags": []
   },
   "outputs": [],
   "source": [
    "def calculate_euclidean_distance(shapes1, shapes2):\n",
    "    distances = []\n",
    "    for point1 in shapes1:\n",
    "        min_distance = min(np.sqrt((point1[0] - point2[0])**2 + (point1[1] - point2[1])**2) for point2 in shapes2)\n",
    "        distances.append(min_distance)\n",
    "    return np.mean(distances)"
   ]
  },
  {
   "cell_type": "code",
   "execution_count": 7,
   "id": "5eaa010d",
   "metadata": {
    "execution": {
     "iopub.execute_input": "2023-12-25T05:25:32.763929Z",
     "iopub.status.busy": "2023-12-25T05:25:32.763929Z",
     "iopub.status.idle": "2023-12-25T05:25:32.773996Z",
     "shell.execute_reply": "2023-12-25T05:25:32.773996Z"
    },
    "papermill": {
     "duration": 0.013128,
     "end_time": "2023-12-25T05:25:32.775011",
     "exception": false,
     "start_time": "2023-12-25T05:25:32.761883",
     "status": "completed"
    },
    "tags": []
   },
   "outputs": [],
   "source": [
    "def calculate_similarity(shapes1, shapes2):\n",
    "    cost_matrix = np.zeros((len(shapes1), len(shapes2)))\n",
    "    for i, coord1 in enumerate(shapes1):\n",
    "        for j, coord2 in enumerate(shapes2):\n",
    "            cost_matrix[i, j] = np.linalg.norm(np.array(coord1) - np.array(coord2))\n",
    "    row_ind, col_ind = linear_sum_assignment(cost_matrix)\n",
    "\n",
    "    total_distance = cost_matrix[row_ind, col_ind].sum()\n",
    "    max_distance = np.max(cost_matrix) * len(shapes1)\n",
    "    similarity = 100 - (total_distance / max_distance * 100)\n",
    "\n",
    "    return similarity"
   ]
  },
  {
   "cell_type": "code",
   "execution_count": 8,
   "id": "260c3ea3",
   "metadata": {
    "execution": {
     "iopub.execute_input": "2023-12-25T05:25:32.779035Z",
     "iopub.status.busy": "2023-12-25T05:25:32.779035Z",
     "iopub.status.idle": "2023-12-25T05:25:32.789287Z",
     "shell.execute_reply": "2023-12-25T05:25:32.789287Z"
    },
    "papermill": {
     "duration": 0.013261,
     "end_time": "2023-12-25T05:25:32.790302",
     "exception": false,
     "start_time": "2023-12-25T05:25:32.777041",
     "status": "completed"
    },
    "tags": []
   },
   "outputs": [],
   "source": [
    "def calculate_min_max_avg_distance(shapes1, shapes2):\n",
    "    all_distances = []\n",
    "    for point1 in shapes1:\n",
    "        distances = [np.sqrt((point1[0] - point2[0]) ** 2 + (point1[1] - point2[1]) ** 2) for point2 in shapes2]\n",
    "        all_distances.append(min(distances))\n",
    "\n",
    "    return np.min(all_distances), np.max(all_distances), np.mean(all_distances)"
   ]
  },
  {
   "cell_type": "code",
   "execution_count": 9,
   "id": "d920cb77",
   "metadata": {
    "execution": {
     "iopub.execute_input": "2023-12-25T05:25:32.794337Z",
     "iopub.status.busy": "2023-12-25T05:25:32.794337Z",
     "iopub.status.idle": "2023-12-25T05:25:32.804574Z",
     "shell.execute_reply": "2023-12-25T05:25:32.804574Z"
    },
    "papermill": {
     "duration": 0.014217,
     "end_time": "2023-12-25T05:25:32.805562",
     "exception": false,
     "start_time": "2023-12-25T05:25:32.791345",
     "status": "completed"
    },
    "tags": []
   },
   "outputs": [],
   "source": [
    "def calculate_density(shapes1, shapes2, radius=250):\n",
    "    density_list = []\n",
    "    for point1 in shapes1:\n",
    "        count = sum(np.sqrt((point1[0] - point2[0]) ** 2 + (point1[1] - point2[1]) ** 2) < radius for point2 in shapes2)\n",
    "        density_list.append(count)\n",
    "    return density_list"
   ]
  },
  {
   "cell_type": "code",
   "execution_count": 10,
   "id": "44f5cbee",
   "metadata": {
    "execution": {
     "iopub.execute_input": "2023-12-25T05:25:32.809608Z",
     "iopub.status.busy": "2023-12-25T05:25:32.809608Z",
     "iopub.status.idle": "2023-12-25T05:25:32.819919Z",
     "shell.execute_reply": "2023-12-25T05:25:32.819919Z"
    },
    "papermill": {
     "duration": 0.013355,
     "end_time": "2023-12-25T05:25:32.820919",
     "exception": false,
     "start_time": "2023-12-25T05:25:32.807564",
     "status": "completed"
    },
    "tags": []
   },
   "outputs": [],
   "source": [
    "def calculate_knn_distance(shapes1, shapes2, k=1):\n",
    "    neigh = NearestNeighbors(n_neighbors=k)\n",
    "    neigh.fit(shapes2)\n",
    "\n",
    "    distances, _ = neigh.kneighbors(shapes1)\n",
    "\n",
    "    return np.mean(distances)"
   ]
  },
  {
   "cell_type": "code",
   "execution_count": 11,
   "id": "93cb38a7",
   "metadata": {},
   "outputs": [],
   "source": [
    "def EMD(shapes1, shapes2):\n",
    "    cost_matrix = np.zeros((len(shapes1), len(shapes2)))\n",
    "    for i, coord1 in enumerate(shapes1):\n",
    "        for j, coord2 in enumerate(shapes2):\n",
    "            cost_matrix[i, j] = np.linalg.norm(np.array(coord1) - np.array(coord2))\n",
    "    row_ind, col_ind = linear_sum_assignment(cost_matrix)\n",
    "    total_distance = cost_matrix[row_ind, col_ind].sum()\n",
    "    max_distance = np.max(cost_matrix) * len(shapes1)\n",
    "    similarity = 100 - (total_distance / max_distance * 100)\n",
    "\n",
    "    return similarity"
   ]
  },
  {
   "cell_type": "code",
   "execution_count": 12,
   "id": "fbcc4f22",
   "metadata": {},
   "outputs": [],
   "source": [
    "def calculate_jaccard_similarity(shapes1, shapes2, threshold):\n",
    "    similar_pairs = 0\n",
    "    for point1 in shapes1:\n",
    "        if any(np.linalg.norm(np.array(point1) - np.array(point2)) < threshold for point2 in shapes2):\n",
    "            similar_pairs += 1\n",
    "    for point2 in shapes2:\n",
    "        if any(np.linalg.norm(np.array(point2) - np.array(point1)) < threshold for point1 in shapes1):\n",
    "            similar_pairs += 1\n",
    "    similar_pairs = similar_pairs / 2\n",
    "    union_size = len(shapes1) + len(shapes2) - similar_pairs\n",
    "    jaccard_similarity = (similar_pairs / union_size) * 100\n",
    "\n",
    "    return jaccard_similarity"
   ]
  },
  {
   "cell_type": "code",
   "execution_count": 13,
   "id": "acbddfee",
   "metadata": {},
   "outputs": [],
   "source": [
    "def calculate_procrustes_similarity(shapes1, shapes2):\n",
    "    mtx1 = np.array(shapes1)\n",
    "    mtx2 = np.array(shapes2)\n",
    "    mtx1_transformed, mtx2_transformed, disparity = procrustes(mtx1, mtx2)\n",
    "    similarity_score = 1 / (1 + disparity)\n",
    "    similarity_score_normalized = similarity_score * 100\n",
    "    similarity_score_normalized = max(min(similarity_score_normalized, 100), 0)\n",
    "    \n",
    "    return similarity_score_normalized"
   ]
  },
  {
   "cell_type": "code",
   "execution_count": 14,
   "id": "deb81859",
   "metadata": {
    "execution": {
     "iopub.execute_input": "2023-12-25T05:25:32.824970Z",
     "iopub.status.busy": "2023-12-25T05:25:32.824970Z",
     "iopub.status.idle": "2023-12-25T05:25:32.835490Z",
     "shell.execute_reply": "2023-12-25T05:25:32.835252Z"
    },
    "papermill": {
     "duration": 0.013673,
     "end_time": "2023-12-25T05:25:32.836574",
     "exception": false,
     "start_time": "2023-12-25T05:25:32.822901",
     "status": "completed"
    },
    "tags": []
   },
   "outputs": [],
   "source": [
    "def perform_comparisons(shapes1, shapes2, weights, max_values):\n",
    "    euclidean_distance = calculate_euclidean_distance(shapes1, shapes2)\n",
    "    min_distance, max_distance, avg_distance = calculate_min_max_avg_distance(shapes1, shapes2)\n",
    "    density = calculate_density(shapes1, shapes2)\n",
    "    knn_distance = calculate_knn_distance(shapes1, shapes2, k=50)\n",
    "    KuhnMunkres = calculate_similarity(shapes1, shapes2)\n",
    "    emd = EMD(shapes1,shapes2)\n",
    "    jaccard = calculate_jaccard_similarity(shapes1, shapes2,threshold = 42.5)\n",
    "    procrustes = calculate_procrustes_similarity(shapes1, shapes2)\n",
    "    \n",
    "    euclidean_score = max(0, min(100, (max_values['euclidean'] - euclidean_distance) / max_values['euclidean'] * 100))\n",
    "    min_max_avg_score = max(0, min(100, (max_values['min_max_avg'] - avg_distance) / max_values['min_max_avg'] * 100))\n",
    "    density_score = max(0, min(100, np.mean(density) / max_values['density'] * 100))\n",
    "    knn_score = max(0, min(100, (max_values['knn'] - knn_distance) / max_values['knn'] * 100))\n",
    "\n",
    "\n",
    "    weighted_average_score = (\n",
    "        weights[\"euclidean\"] * euclidean_score +\n",
    "        weights[\"density\"] * density_score +\n",
    "        weights[\"knn\"] * knn_score + \n",
    "        weights[\"EMD\"] * emd + \n",
    "        weights[\"jaccard\"] * jaccard +\n",
    "        weights[\"procrustes\"] * procrustes \n",
    "    )\n",
    "\n",
    "\n",
    "    return weighted_average_score"
   ]
  },
  {
   "cell_type": "code",
   "execution_count": 15,
   "id": "d253c112",
   "metadata": {
    "execution": {
     "iopub.execute_input": "2023-12-25T05:25:32.840694Z",
     "iopub.status.busy": "2023-12-25T05:25:32.840694Z",
     "iopub.status.idle": "2023-12-25T05:25:32.850600Z",
     "shell.execute_reply": "2023-12-25T05:25:32.850600Z"
    },
    "papermill": {
     "duration": 0.013039,
     "end_time": "2023-12-25T05:25:32.851597",
     "exception": false,
     "start_time": "2023-12-25T05:25:32.838558",
     "status": "completed"
    },
    "tags": []
   },
   "outputs": [],
   "source": [
    "weights = {\n",
    "    \"euclidean\": 1/8,\n",
    "    \"min_max_avg\": 1/8,\n",
    "    \"density\": 1/8,\n",
    "    \"knn\": 1/8,\n",
    "    \"Kuhn-Munkres\": 1/8,\n",
    "    \"EMD\": 1/8,\n",
    "    \"jaccard\": 1/8,\n",
    "    \"procrustes\": 1/8,\n",
    "}\n",
    "\n",
    "\n",
    "max_values = {\n",
    "    \"euclidean\": np.sqrt((400 - 150) ** 2 + (300 - 50) ** 2),\n",
    "    \"min_max_avg\": np.sqrt((400 - 150) ** 2 + (300 - 50) ** 2),\n",
    "    \"density\": 68,  \n",
    "    \"knn\": 1700, \n",
    "    \n",
    "}"
   ]
  },
  {
   "cell_type": "code",
   "execution_count": 16,
   "id": "79e2be65",
   "metadata": {
    "execution": {
     "iopub.execute_input": "2023-12-25T05:25:32.855622Z",
     "iopub.status.busy": "2023-12-25T05:25:32.855622Z",
     "iopub.status.idle": "2023-12-25T05:25:35.671068Z",
     "shell.execute_reply": "2023-12-25T05:25:35.671068Z"
    },
    "papermill": {
     "duration": 2.818435,
     "end_time": "2023-12-25T05:25:35.672065",
     "exception": false,
     "start_time": "2023-12-25T05:25:32.853630",
     "status": "completed"
    },
    "tags": []
   },
   "outputs": [
    {
     "name": "stdout",
     "output_type": "stream",
     "text": [
      "Score for 1.jpg: 61.95\n",
      "Score for 10.jpg: 65.14\n",
      "Score for 100.jpg: 63.35\n",
      "Score for 101.jpg: 63.39\n",
      "Score for 102.jpg: 62.16\n",
      "Score for 103.jpg: 64.19\n",
      "Score for 104.jpg: 62.38\n",
      "Score for 105.jpg: 64.18\n",
      "Score for 106.jpg: 65.16\n",
      "Score for 107.jpg: 63.76\n",
      "Score for 108.jpg: 62.77\n",
      "Score for 109.jpg: 64.54\n",
      "Score for 11.jpg: 61.51\n",
      "Score for 110.jpg: 61.80\n",
      "Score for 12.png: 61.42\n",
      "Score for 13.png: 62.83\n",
      "Score for 14.jpg: 65.16\n",
      "Score for 15.png: 63.08\n",
      "Score for 16.jpg: 63.49\n",
      "Score for 17.jpg: 65.13\n",
      "Score for 18.png: 64.18\n",
      "Score for 19.jpg: 64.43\n",
      "Score for 2.jpg: 60.49\n",
      "Score for 20.jpg: 65.46\n",
      "Score for 21.jpg: 64.33\n",
      "Score for 22.jpg: 64.16\n",
      "Score for 23.jpg: 65.88\n",
      "Score for 24.jpg: 62.02\n",
      "Score for 25.jpg: 60.70\n",
      "Score for 26.jpg: 64.46\n",
      "Score for 27.jpg: 62.09\n",
      "Score for 28.jpg: 63.90\n",
      "Score for 29.jpg: 62.73\n",
      "Score for 3.jpg: 63.93\n",
      "Score for 30.jpg: 65.34\n",
      "Score for 31.jpg: 63.36\n",
      "Score for 32.jpg: 64.50\n",
      "Score for 33.jpg: 63.24\n",
      "Score for 34.jpg: 64.06\n",
      "Score for 35.jpg: 63.59\n",
      "Score for 36.jpg: 64.54\n",
      "Score for 37.jpg: 64.51\n",
      "Score for 38.jpg: 62.16\n",
      "Score for 39.jpg: 64.30\n",
      "Score for 4.jpg: 61.96\n",
      "Score for 40.jpg: 64.24\n",
      "Score for 41.jpg: 62.77\n",
      "Score for 42.jpg: 64.59\n",
      "Score for 43.jpg: 63.48\n",
      "Score for 44.jpg: 64.59\n",
      "Score for 45.jpg: 64.23\n",
      "Score for 46.jpg: 64.36\n",
      "Score for 47.jpg: 63.23\n",
      "Score for 48.jpg: 64.00\n",
      "Score for 49.jpg: 59.67\n",
      "Score for 5.jpg: 63.38\n",
      "Score for 50.jpg: 61.41\n",
      "Score for 51.jpg: 65.49\n",
      "Score for 52.jpg: 65.92\n",
      "Score for 53.jpg: 64.56\n",
      "Score for 54.jpg: 64.21\n",
      "Score for 55.jpg: 65.06\n",
      "Score for 56.jpg: 63.59\n",
      "Score for 57.jpg: 64.81\n",
      "Score for 58.jpg: 64.36\n",
      "Score for 59.jpg: 62.81\n",
      "Score for 6.jpg: 64.55\n",
      "Score for 60.jpg: 64.64\n",
      "Score for 61.jpg: 64.21\n",
      "Score for 62.jpg: 62.92\n",
      "Score for 63.jpg: 63.07\n",
      "Score for 64.jpg: 64.39\n",
      "Score for 65.jpg: 64.53\n",
      "Score for 66.jpg: 64.85\n",
      "Score for 67.jpg: 64.05\n",
      "Score for 68.jpg: 61.96\n",
      "Score for 69.jpg: 64.04\n",
      "Score for 7.jpg: 64.09\n",
      "Score for 70.jpg: 63.00\n",
      "Score for 71.jpg: 65.27\n",
      "Score for 72.jpg: 64.90\n",
      "Score for 73.jpg: 62.81\n",
      "Score for 74.jpg: 64.47\n",
      "Score for 75.jpg: 64.34\n",
      "Score for 76.jpg: 64.03\n",
      "Score for 77.jpg: 64.56\n",
      "Score for 78.jpg: 65.02\n",
      "Score for 79.jpg: 64.44\n",
      "Score for 8.jpg: 64.14\n",
      "Score for 80.jpg: 64.14\n",
      "Score for 81.jpg: 63.14\n",
      "Score for 82.jpg: 64.75\n",
      "Score for 83.jpg: 64.92\n",
      "Score for 84.jpg: 65.26\n",
      "Score for 85.jpg: 64.28\n",
      "Score for 86.jpg: 64.16\n",
      "Score for 87.jpg: 64.96\n",
      "Score for 88.jpg: 63.99\n",
      "Score for 89.jpg: 64.20\n",
      "Score for 9.jpg: 64.17\n",
      "Score for 90.jpg: 62.75\n",
      "Score for 91.jpg: 62.90\n",
      "Score for 92.jpg: 63.43\n",
      "Score for 93.jpg: 59.59\n",
      "Score for 94.jpg: 59.93\n",
      "Score for 95.jpg: 62.90\n",
      "Score for 96.jpg: 63.33\n",
      "Score for 97.jpg: 64.10\n",
      "Score for 98.jpg: 61.17\n",
      "Score for 99.jpg: 64.49\n",
      "The image with the highest score: 52.jpg 65.91889825121736\n"
     ]
    }
   ],
   "source": [
    "def process_folder(shapes1, weights, max_values):\n",
    "    #get scores of all picture\n",
    "    scores = {}\n",
    "    pointsdata = pd.read_csv(\"points.csv\")\n",
    "    df = pd.DataFrame(pointsdata)\n",
    "    #image_files = [f for f in os.listdir(folder_path) if f.endswith(('.jpg', '.png'))]\n",
    "    for num in range(0,110):\n",
    "        shapes2 = df.iloc[num].to_list()\n",
    "        image_file = shapes2[0]\n",
    "        shapes2.remove(image_file)\n",
    "        shapes2 = [ast.literal_eval(point) for point in shapes2]\n",
    "        x_range = (150, 400)\n",
    "        y_range = (50, 300)\n",
    "        shapes1_new = transform_points(shapes1[0], x_range, y_range)\n",
    "        shapes2_new = transform_points(shapes2, x_range, y_range)\n",
    "        score = perform_comparisons(shapes1_new, shapes2_new, weights, max_values)\n",
    "        scores[image_file] = score\n",
    "        print(f\"Score for {image_file}: {score:.2f}\") \n",
    "    return scores\n",
    "\n",
    "\n",
    "folder_path = 'images'  \n",
    "scores = process_folder(shapes1, weights, max_values)\n",
    "highest_score_image , max_score = max(scores.items(), key=lambda x: x[1])\n",
    "print(f\"The image with the highest score: {highest_score_image} {max_score}\")\n",
    "highest_score_image_path = os.path.join(folder_path, highest_score_image)"
   ]
  },
  {
   "cell_type": "code",
   "execution_count": 17,
   "id": "4c9d0479",
   "metadata": {
    "execution": {
     "iopub.execute_input": "2023-12-25T05:25:35.678109Z",
     "iopub.status.busy": "2023-12-25T05:25:35.677179Z",
     "iopub.status.idle": "2023-12-25T05:25:35.734038Z",
     "shell.execute_reply": "2023-12-25T05:25:35.732976Z"
    },
    "papermill": {
     "duration": 0.061063,
     "end_time": "2023-12-25T05:25:35.735121",
     "exception": false,
     "start_time": "2023-12-25T05:25:35.674058",
     "status": "completed"
    },
    "tags": []
   },
   "outputs": [
    {
     "data": {
      "image/png": "[encoded data removed]",
      "text/plain": [
       "<Figure size 640x480 with 1 Axes>"
      ]
     },
     "metadata": {},
     "output_type": "display_data"
    }
   ],
   "source": [
    "img = Image.open(highest_score_image_path)\n",
    "plt.imshow(img)\n",
    "plt.axis('off')\n",
    "plt.title(f\"Most similar image: {highest_score_image}\")\n",
    "plt.show()"
   ]
  }
 ],
 "metadata": {
  "kernelspec": {
   "display_name": "Python 3 (ipykernel)",
   "language": "python",
   "name": "python3"
  },
  "language_info": {
   "codemirror_mode": {
    "name": "ipython",
    "version": 3
   },
   "file_extension": ".py",
   "mimetype": "text/x-python",
   "name": "python",
   "nbconvert_exporter": "python",
   "pygments_lexer": "ipython3",
   "version": "3.8.18"
  },
  "papermill": {
   "default_parameters": {},
   "duration": 5.494288,
   "end_time": "2023-12-25T05:25:36.148739",
   "environment_variables": {},
   "exception": null,
   "input_path": "face(all_points)_mark2(not_for_demo).ipynb",
   "output_path": "face(all_points)_mark2(not_for_demo).ipynb",
   "parameters": {
    "image_path1": "human_picture\\000100.jpg"
   },
   "start_time": "2023-12-25T05:25:30.654451",
   "version": "2.5.0"
  }
 },
 "nbformat": 4,
 "nbformat_minor": 5
}
